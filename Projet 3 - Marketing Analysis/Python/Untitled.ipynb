{
 "cells": [
  {
   "cell_type": "code",
   "execution_count": 1,
   "id": "51b69b66-c208-4d95-8f5a-671f57236ef2",
   "metadata": {},
   "outputs": [],
   "source": [
    "import pandas as pd\n",
    "import numpy as np "
   ]
  },
  {
   "cell_type": "code",
   "execution_count": 2,
   "id": "a5a24dd2-a55d-4fa7-b535-565bc9a9de10",
   "metadata": {},
   "outputs": [],
   "source": [
    "df = pd.read_csv(\"/Users/laajajmohamed/Library/CloudStorage/OneDrive-sdctl/Data/Projet 3 - Marketing Analysis/CSV/marketing_data.csv\")"
   ]
  },
  {
   "cell_type": "code",
   "execution_count": 3,
   "id": "dac1072a-db9b-45db-8f3b-ce7949c23ccb",
   "metadata": {},
   "outputs": [
    {
     "data": {
      "text/html": [
       "<div>\n",
       "<style scoped>\n",
       "    .dataframe tbody tr th:only-of-type {\n",
       "        vertical-align: middle;\n",
       "    }\n",
       "\n",
       "    .dataframe tbody tr th {\n",
       "        vertical-align: top;\n",
       "    }\n",
       "\n",
       "    .dataframe thead th {\n",
       "        text-align: right;\n",
       "    }\n",
       "</style>\n",
       "<table border=\"1\" class=\"dataframe\">\n",
       "  <thead>\n",
       "    <tr style=\"text-align: right;\">\n",
       "      <th></th>\n",
       "      <th>ID</th>\n",
       "      <th>Year_Birth</th>\n",
       "      <th>Education</th>\n",
       "      <th>Marital_Status</th>\n",
       "      <th>Income</th>\n",
       "      <th>Kidhome</th>\n",
       "      <th>Teenhome</th>\n",
       "      <th>Dt_Customer</th>\n",
       "      <th>Recency</th>\n",
       "      <th>MntWines</th>\n",
       "      <th>...</th>\n",
       "      <th>NumStorePurchases</th>\n",
       "      <th>NumWebVisitsMonth</th>\n",
       "      <th>AcceptedCmp3</th>\n",
       "      <th>AcceptedCmp4</th>\n",
       "      <th>AcceptedCmp5</th>\n",
       "      <th>AcceptedCmp1</th>\n",
       "      <th>AcceptedCmp2</th>\n",
       "      <th>Response</th>\n",
       "      <th>Complain</th>\n",
       "      <th>Country</th>\n",
       "    </tr>\n",
       "  </thead>\n",
       "  <tbody>\n",
       "    <tr>\n",
       "      <th>0</th>\n",
       "      <td>1826</td>\n",
       "      <td>1970</td>\n",
       "      <td>Graduation</td>\n",
       "      <td>Divorced</td>\n",
       "      <td>$84,835.00</td>\n",
       "      <td>0</td>\n",
       "      <td>0</td>\n",
       "      <td>6/16/14</td>\n",
       "      <td>0</td>\n",
       "      <td>189</td>\n",
       "      <td>...</td>\n",
       "      <td>6</td>\n",
       "      <td>1</td>\n",
       "      <td>0</td>\n",
       "      <td>0</td>\n",
       "      <td>0</td>\n",
       "      <td>0</td>\n",
       "      <td>0</td>\n",
       "      <td>1</td>\n",
       "      <td>0</td>\n",
       "      <td>SP</td>\n",
       "    </tr>\n",
       "    <tr>\n",
       "      <th>1</th>\n",
       "      <td>1</td>\n",
       "      <td>1961</td>\n",
       "      <td>Graduation</td>\n",
       "      <td>Single</td>\n",
       "      <td>$57,091.00</td>\n",
       "      <td>0</td>\n",
       "      <td>0</td>\n",
       "      <td>6/15/14</td>\n",
       "      <td>0</td>\n",
       "      <td>464</td>\n",
       "      <td>...</td>\n",
       "      <td>7</td>\n",
       "      <td>5</td>\n",
       "      <td>0</td>\n",
       "      <td>0</td>\n",
       "      <td>0</td>\n",
       "      <td>0</td>\n",
       "      <td>1</td>\n",
       "      <td>1</td>\n",
       "      <td>0</td>\n",
       "      <td>CA</td>\n",
       "    </tr>\n",
       "    <tr>\n",
       "      <th>2</th>\n",
       "      <td>10476</td>\n",
       "      <td>1958</td>\n",
       "      <td>Graduation</td>\n",
       "      <td>Married</td>\n",
       "      <td>$67,267.00</td>\n",
       "      <td>0</td>\n",
       "      <td>1</td>\n",
       "      <td>5/13/14</td>\n",
       "      <td>0</td>\n",
       "      <td>134</td>\n",
       "      <td>...</td>\n",
       "      <td>5</td>\n",
       "      <td>2</td>\n",
       "      <td>0</td>\n",
       "      <td>0</td>\n",
       "      <td>0</td>\n",
       "      <td>0</td>\n",
       "      <td>0</td>\n",
       "      <td>0</td>\n",
       "      <td>0</td>\n",
       "      <td>US</td>\n",
       "    </tr>\n",
       "    <tr>\n",
       "      <th>3</th>\n",
       "      <td>1386</td>\n",
       "      <td>1967</td>\n",
       "      <td>Graduation</td>\n",
       "      <td>Together</td>\n",
       "      <td>$32,474.00</td>\n",
       "      <td>1</td>\n",
       "      <td>1</td>\n",
       "      <td>5/11/14</td>\n",
       "      <td>0</td>\n",
       "      <td>10</td>\n",
       "      <td>...</td>\n",
       "      <td>2</td>\n",
       "      <td>7</td>\n",
       "      <td>0</td>\n",
       "      <td>0</td>\n",
       "      <td>0</td>\n",
       "      <td>0</td>\n",
       "      <td>0</td>\n",
       "      <td>0</td>\n",
       "      <td>0</td>\n",
       "      <td>AUS</td>\n",
       "    </tr>\n",
       "    <tr>\n",
       "      <th>4</th>\n",
       "      <td>5371</td>\n",
       "      <td>1989</td>\n",
       "      <td>Graduation</td>\n",
       "      <td>Single</td>\n",
       "      <td>$21,474.00</td>\n",
       "      <td>1</td>\n",
       "      <td>0</td>\n",
       "      <td>4/8/14</td>\n",
       "      <td>0</td>\n",
       "      <td>6</td>\n",
       "      <td>...</td>\n",
       "      <td>2</td>\n",
       "      <td>7</td>\n",
       "      <td>1</td>\n",
       "      <td>0</td>\n",
       "      <td>0</td>\n",
       "      <td>0</td>\n",
       "      <td>0</td>\n",
       "      <td>1</td>\n",
       "      <td>0</td>\n",
       "      <td>SP</td>\n",
       "    </tr>\n",
       "  </tbody>\n",
       "</table>\n",
       "<p>5 rows × 28 columns</p>\n",
       "</div>"
      ],
      "text/plain": [
       "      ID  Year_Birth   Education Marital_Status      Income   Kidhome  \\\n",
       "0   1826        1970  Graduation       Divorced  $84,835.00         0   \n",
       "1      1        1961  Graduation         Single  $57,091.00         0   \n",
       "2  10476        1958  Graduation        Married  $67,267.00         0   \n",
       "3   1386        1967  Graduation       Together  $32,474.00         1   \n",
       "4   5371        1989  Graduation         Single  $21,474.00         1   \n",
       "\n",
       "   Teenhome Dt_Customer  Recency  MntWines  ...  NumStorePurchases  \\\n",
       "0         0     6/16/14        0       189  ...                  6   \n",
       "1         0     6/15/14        0       464  ...                  7   \n",
       "2         1     5/13/14        0       134  ...                  5   \n",
       "3         1     5/11/14        0        10  ...                  2   \n",
       "4         0      4/8/14        0         6  ...                  2   \n",
       "\n",
       "   NumWebVisitsMonth  AcceptedCmp3  AcceptedCmp4  AcceptedCmp5  AcceptedCmp1  \\\n",
       "0                  1             0             0             0             0   \n",
       "1                  5             0             0             0             0   \n",
       "2                  2             0             0             0             0   \n",
       "3                  7             0             0             0             0   \n",
       "4                  7             1             0             0             0   \n",
       "\n",
       "   AcceptedCmp2  Response  Complain  Country  \n",
       "0             0         1         0       SP  \n",
       "1             1         1         0       CA  \n",
       "2             0         0         0       US  \n",
       "3             0         0         0      AUS  \n",
       "4             0         1         0       SP  \n",
       "\n",
       "[5 rows x 28 columns]"
      ]
     },
     "execution_count": 3,
     "metadata": {},
     "output_type": "execute_result"
    }
   ],
   "source": [
    "df.head()"
   ]
  },
  {
   "cell_type": "code",
   "execution_count": 4,
   "id": "9190090b-03e3-40cb-9ec2-b806123074c0",
   "metadata": {},
   "outputs": [
    {
     "data": {
      "text/plain": [
       "(2240, 28)"
      ]
     },
     "execution_count": 4,
     "metadata": {},
     "output_type": "execute_result"
    }
   ],
   "source": [
    "df.shape"
   ]
  },
  {
   "cell_type": "code",
   "execution_count": 5,
   "id": "3643b27f-43e0-47b4-8ad1-266dbb68a6a2",
   "metadata": {},
   "outputs": [
    {
     "data": {
      "text/plain": [
       "0"
      ]
     },
     "execution_count": 5,
     "metadata": {},
     "output_type": "execute_result"
    }
   ],
   "source": [
    "df.Education.isna().sum()"
   ]
  },
  {
   "cell_type": "code",
   "execution_count": 6,
   "id": "38c0fe5a-e4bd-494b-aa97-b5a757a16805",
   "metadata": {},
   "outputs": [
    {
     "data": {
      "text/plain": [
       "Graduation    0.503125\n",
       "PhD           0.216964\n",
       "Master        0.165179\n",
       "2n Cycle      0.090625\n",
       "Basic         0.024107\n",
       "Name: Education, dtype: float64"
      ]
     },
     "execution_count": 6,
     "metadata": {},
     "output_type": "execute_result"
    }
   ],
   "source": [
    "df['Education'].value_counts(normalize=True)"
   ]
  },
  {
   "cell_type": "code",
   "execution_count": 7,
   "id": "9aabb9bc-5b97-4a83-b262-33dea21ca8b3",
   "metadata": {},
   "outputs": [
    {
     "data": {
      "text/plain": [
       "<AxesSubplot:ylabel='Education'>"
      ]
     },
     "execution_count": 7,
     "metadata": {},
     "output_type": "execute_result"
    },
    {
     "data": {
      "image/png": "[encoded data removed]",
      "text/plain": [
       "<Figure size 432x288 with 1 Axes>"
      ]
     },
     "metadata": {},
     "output_type": "display_data"
    }
   ],
   "source": [
    "df['Education'].value_counts(normalize=True).plot(kind='pie')"
   ]
  },
  {
   "cell_type": "code",
   "execution_count": 8,
   "id": "68e0ba5e-2c42-4ea2-a660-4bb4ccde6901",
   "metadata": {},
   "outputs": [
    {
     "data": {
      "text/plain": [
       "Married     0.385714\n",
       "Together    0.258929\n",
       "Single      0.214286\n",
       "Divorced    0.103571\n",
       "Widow       0.034375\n",
       "Alone       0.001339\n",
       "YOLO        0.000893\n",
       "Absurd      0.000893\n",
       "Name: Marital_Status, dtype: float64"
      ]
     },
     "execution_count": 8,
     "metadata": {},
     "output_type": "execute_result"
    }
   ],
   "source": [
    "df['Marital_Status'].value_counts(normalize=True)"
   ]
  },
  {
   "cell_type": "code",
   "execution_count": 9,
   "id": "b4d5b082-e647-4b61-b9d5-3feca4dc4c11",
   "metadata": {},
   "outputs": [
    {
     "data": {
      "text/plain": [
       "Index(['ID', 'Year_Birth', 'Education', 'Marital_Status', ' Income ',\n",
       "       'Kidhome', 'Teenhome', 'Dt_Customer', 'Recency', 'MntWines',\n",
       "       'MntFruits', 'MntMeatProducts', 'MntFishProducts', 'MntSweetProducts',\n",
       "       'MntGoldProds', 'NumDealsPurchases', 'NumWebPurchases',\n",
       "       'NumCatalogPurchases', 'NumStorePurchases', 'NumWebVisitsMonth',\n",
       "       'AcceptedCmp3', 'AcceptedCmp4', 'AcceptedCmp5', 'AcceptedCmp1',\n",
       "       'AcceptedCmp2', 'Response', 'Complain', 'Country'],\n",
       "      dtype='object')"
      ]
     },
     "execution_count": 9,
     "metadata": {},
     "output_type": "execute_result"
    }
   ],
   "source": [
    "df.columns"
   ]
  },
  {
   "cell_type": "code",
   "execution_count": 10,
   "id": "7f7683fc-0d0a-4483-8e82-8870df833453",
   "metadata": {},
   "outputs": [],
   "source": [
    "df.rename(columns={' Income ' : 'Income'}, inplace=True)"
   ]
  },
  {
   "cell_type": "code",
   "execution_count": 11,
   "id": "296591f8-d390-46ef-bc39-e547b9c455c5",
   "metadata": {},
   "outputs": [
    {
     "data": {
      "text/plain": [
       "Index(['ID', 'Year_Birth', 'Education', 'Marital_Status', 'Income', 'Kidhome',\n",
       "       'Teenhome', 'Dt_Customer', 'Recency', 'MntWines', 'MntFruits',\n",
       "       'MntMeatProducts', 'MntFishProducts', 'MntSweetProducts',\n",
       "       'MntGoldProds', 'NumDealsPurchases', 'NumWebPurchases',\n",
       "       'NumCatalogPurchases', 'NumStorePurchases', 'NumWebVisitsMonth',\n",
       "       'AcceptedCmp3', 'AcceptedCmp4', 'AcceptedCmp5', 'AcceptedCmp1',\n",
       "       'AcceptedCmp2', 'Response', 'Complain', 'Country'],\n",
       "      dtype='object')"
      ]
     },
     "execution_count": 11,
     "metadata": {},
     "output_type": "execute_result"
    }
   ],
   "source": [
    "df.columns"
   ]
  },
  {
   "cell_type": "code",
   "execution_count": 12,
   "id": "d91be57c-a70a-4892-bd02-3166e03f6837",
   "metadata": {},
   "outputs": [
    {
     "data": {
      "text/plain": [
       "0       $84,835.00 \n",
       "1       $57,091.00 \n",
       "2       $67,267.00 \n",
       "3       $32,474.00 \n",
       "4       $21,474.00 \n",
       "           ...     \n",
       "2235    $66,476.00 \n",
       "2236    $31,056.00 \n",
       "2237    $46,310.00 \n",
       "2238    $65,819.00 \n",
       "2239    $94,871.00 \n",
       "Name: Income, Length: 2240, dtype: object"
      ]
     },
     "execution_count": 12,
     "metadata": {},
     "output_type": "execute_result"
    }
   ],
   "source": [
    "df['Income']"
   ]
  },
  {
   "cell_type": "code",
   "execution_count": 13,
   "id": "438e437a-fd38-4c74-868e-b536ed6f3193",
   "metadata": {},
   "outputs": [
    {
     "data": {
      "text/plain": [
       "24"
      ]
     },
     "execution_count": 13,
     "metadata": {},
     "output_type": "execute_result"
    }
   ],
   "source": [
    "df['Income'].isna().sum()"
   ]
  },
  {
   "cell_type": "code",
   "execution_count": 14,
   "id": "5c7da6da-13ac-4148-925b-0dc410a3c53d",
   "metadata": {},
   "outputs": [
    {
     "name": "stdout",
     "output_type": "stream",
     "text": [
      "ID\n",
      "0\n",
      "--------------------\n",
      "Year_Birth\n",
      "0\n",
      "--------------------\n",
      "Education\n",
      "0\n",
      "--------------------\n",
      "Marital_Status\n",
      "0\n",
      "--------------------\n",
      "Income\n",
      "24\n",
      "--------------------\n",
      "Kidhome\n",
      "0\n",
      "--------------------\n",
      "Teenhome\n",
      "0\n",
      "--------------------\n",
      "Dt_Customer\n",
      "0\n",
      "--------------------\n",
      "Recency\n",
      "0\n",
      "--------------------\n",
      "MntWines\n",
      "0\n",
      "--------------------\n",
      "MntFruits\n",
      "0\n",
      "--------------------\n",
      "MntMeatProducts\n",
      "0\n",
      "--------------------\n",
      "MntFishProducts\n",
      "0\n",
      "--------------------\n",
      "MntSweetProducts\n",
      "0\n",
      "--------------------\n",
      "MntGoldProds\n",
      "0\n",
      "--------------------\n",
      "NumDealsPurchases\n",
      "0\n",
      "--------------------\n",
      "NumWebPurchases\n",
      "0\n",
      "--------------------\n",
      "NumCatalogPurchases\n",
      "0\n",
      "--------------------\n",
      "NumStorePurchases\n",
      "0\n",
      "--------------------\n",
      "NumWebVisitsMonth\n",
      "0\n",
      "--------------------\n",
      "AcceptedCmp3\n",
      "0\n",
      "--------------------\n",
      "AcceptedCmp4\n",
      "0\n",
      "--------------------\n",
      "AcceptedCmp5\n",
      "0\n",
      "--------------------\n",
      "AcceptedCmp1\n",
      "0\n",
      "--------------------\n",
      "AcceptedCmp2\n",
      "0\n",
      "--------------------\n",
      "Response\n",
      "0\n",
      "--------------------\n",
      "Complain\n",
      "0\n",
      "--------------------\n",
      "Country\n",
      "0\n",
      "--------------------\n"
     ]
    }
   ],
   "source": [
    "for n in df.columns:\n",
    "    print(n)\n",
    "    print(df[n].isna().sum())\n",
    "    print('--------------------')"
   ]
  },
  {
   "cell_type": "code",
   "execution_count": 15,
   "id": "5a473e5c-7e0a-406f-991e-2450bd2c37e3",
   "metadata": {},
   "outputs": [],
   "source": [
    "df = df.dropna()"
   ]
  },
  {
   "cell_type": "code",
   "execution_count": 16,
   "id": "4ab8f36d-ccd0-4c50-9aff-6a3e61f7c2ae",
   "metadata": {},
   "outputs": [
    {
     "name": "stdout",
     "output_type": "stream",
     "text": [
      "ID\n",
      "0\n",
      "--------------------\n",
      "Year_Birth\n",
      "0\n",
      "--------------------\n",
      "Education\n",
      "0\n",
      "--------------------\n",
      "Marital_Status\n",
      "0\n",
      "--------------------\n",
      "Income\n",
      "0\n",
      "--------------------\n",
      "Kidhome\n",
      "0\n",
      "--------------------\n",
      "Teenhome\n",
      "0\n",
      "--------------------\n",
      "Dt_Customer\n",
      "0\n",
      "--------------------\n",
      "Recency\n",
      "0\n",
      "--------------------\n",
      "MntWines\n",
      "0\n",
      "--------------------\n",
      "MntFruits\n",
      "0\n",
      "--------------------\n",
      "MntMeatProducts\n",
      "0\n",
      "--------------------\n",
      "MntFishProducts\n",
      "0\n",
      "--------------------\n",
      "MntSweetProducts\n",
      "0\n",
      "--------------------\n",
      "MntGoldProds\n",
      "0\n",
      "--------------------\n",
      "NumDealsPurchases\n",
      "0\n",
      "--------------------\n",
      "NumWebPurchases\n",
      "0\n",
      "--------------------\n",
      "NumCatalogPurchases\n",
      "0\n",
      "--------------------\n",
      "NumStorePurchases\n",
      "0\n",
      "--------------------\n",
      "NumWebVisitsMonth\n",
      "0\n",
      "--------------------\n",
      "AcceptedCmp3\n",
      "0\n",
      "--------------------\n",
      "AcceptedCmp4\n",
      "0\n",
      "--------------------\n",
      "AcceptedCmp5\n",
      "0\n",
      "--------------------\n",
      "AcceptedCmp1\n",
      "0\n",
      "--------------------\n",
      "AcceptedCmp2\n",
      "0\n",
      "--------------------\n",
      "Response\n",
      "0\n",
      "--------------------\n",
      "Complain\n",
      "0\n",
      "--------------------\n",
      "Country\n",
      "0\n",
      "--------------------\n"
     ]
    }
   ],
   "source": [
    "for n in df.columns:\n",
    "    print(n)\n",
    "    print(df[n].isna().sum())\n",
    "    print('--------------------')"
   ]
  },
  {
   "cell_type": "code",
   "execution_count": 17,
   "id": "3b68e59e-3dd9-49d7-abf8-ee8de497fed6",
   "metadata": {},
   "outputs": [],
   "source": [
    "def income(x):\n",
    "    d = {\"$\":'', \",\":\"\", \".00\":\"\"}\n",
    "    for i, j in d.items():\n",
    "        x = str(x).replace(i, j)\n",
    "    return x"
   ]
  },
  {
   "cell_type": "code",
   "execution_count": 18,
   "id": "7180e869-55df-42a3-b77c-5c1d8768b4b4",
   "metadata": {},
   "outputs": [],
   "source": [
    "df['Income'] = df['Income'].apply(income)"
   ]
  },
  {
   "cell_type": "code",
   "execution_count": 19,
   "id": "73f3c4bd-0594-47a0-8cbe-56da3412d85b",
   "metadata": {},
   "outputs": [
    {
     "data": {
      "text/plain": [
       "0       84835 \n",
       "1       57091 \n",
       "2       67267 \n",
       "3       32474 \n",
       "4       21474 \n",
       "         ...  \n",
       "2235    66476 \n",
       "2236    31056 \n",
       "2237    46310 \n",
       "2238    65819 \n",
       "2239    94871 \n",
       "Name: Income, Length: 2216, dtype: object"
      ]
     },
     "execution_count": 19,
     "metadata": {},
     "output_type": "execute_result"
    }
   ],
   "source": [
    "df['Income']"
   ]
  },
  {
   "cell_type": "code",
   "execution_count": 20,
   "id": "a4cbaa20-ed9e-4399-b19a-fe3efc11bcfa",
   "metadata": {},
   "outputs": [],
   "source": [
    "df['Income'] = df['Income'].astype(str)\n",
    "df['Income'] = df['Income'].astype(float)"
   ]
  },
  {
   "cell_type": "code",
   "execution_count": 21,
   "id": "8df6d985-fd15-4d87-b4f0-fe766353077e",
   "metadata": {},
   "outputs": [
    {
     "data": {
      "text/plain": [
       "52247.25135379061"
      ]
     },
     "execution_count": 21,
     "metadata": {},
     "output_type": "execute_result"
    }
   ],
   "source": [
    "df.Income.mean()"
   ]
  },
  {
   "cell_type": "code",
   "execution_count": 22,
   "id": "78dc3265-59e5-4266-abab-23cebd7ce24a",
   "metadata": {},
   "outputs": [
    {
     "data": {
      "text/plain": [
       "Index(['ID', 'Year_Birth', 'Education', 'Marital_Status', 'Income', 'Kidhome',\n",
       "       'Teenhome', 'Dt_Customer', 'Recency', 'MntWines', 'MntFruits',\n",
       "       'MntMeatProducts', 'MntFishProducts', 'MntSweetProducts',\n",
       "       'MntGoldProds', 'NumDealsPurchases', 'NumWebPurchases',\n",
       "       'NumCatalogPurchases', 'NumStorePurchases', 'NumWebVisitsMonth',\n",
       "       'AcceptedCmp3', 'AcceptedCmp4', 'AcceptedCmp5', 'AcceptedCmp1',\n",
       "       'AcceptedCmp2', 'Response', 'Complain', 'Country'],\n",
       "      dtype='object')"
      ]
     },
     "execution_count": 22,
     "metadata": {},
     "output_type": "execute_result"
    }
   ],
   "source": [
    "df.columns"
   ]
  },
  {
   "cell_type": "code",
   "execution_count": 23,
   "id": "9512ca56-ccbe-4d2a-8b3a-687250eb0e02",
   "metadata": {},
   "outputs": [
    {
     "data": {
      "text/plain": [
       "Education\n",
       "2n Cycle      47633.190000\n",
       "Basic         20306.259259\n",
       "Graduation    52720.373656\n",
       "Master        52917.534247\n",
       "PhD           56145.313929\n",
       "Name: Income, dtype: float64"
      ]
     },
     "execution_count": 23,
     "metadata": {},
     "output_type": "execute_result"
    }
   ],
   "source": [
    "df.groupby('Education')['Income'].mean()"
   ]
  },
  {
   "cell_type": "code",
   "execution_count": 24,
   "id": "8bddf1c3-50cf-4bce-a329-6bc16e2d7e1a",
   "metadata": {},
   "outputs": [
    {
     "data": {
      "text/plain": [
       "Married     857\n",
       "Together    573\n",
       "Single      471\n",
       "Divorced    232\n",
       "Widow        76\n",
       "Alone         3\n",
       "YOLO          2\n",
       "Absurd        2\n",
       "Name: Marital_Status, dtype: int64"
      ]
     },
     "execution_count": 24,
     "metadata": {},
     "output_type": "execute_result"
    }
   ],
   "source": [
    "df['Marital_Status'].value_counts()"
   ]
  },
  {
   "cell_type": "code",
   "execution_count": 56,
   "id": "3e901e16-a360-4647-a6fd-42b8c04f78f0",
   "metadata": {},
   "outputs": [],
   "source": [
    "df = df.loc[(df[\"Marital_Status\"] != 'YOLO') | (df['Marital_Status']!='Absurd') | (df['Marital_Status']!='Alone')]"
   ]
  },
  {
   "cell_type": "code",
   "execution_count": 64,
   "id": "4a2f6302-61c3-4651-8df9-f22be9341b0c",
   "metadata": {},
   "outputs": [],
   "source": [
    "df = df.loc[(df[\"Marital_Status\"] != 'YOLO') & (df['Marital_Status']!='Absurd') & (df['Marital_Status']!='Alone')]"
   ]
  },
  {
   "cell_type": "code",
   "execution_count": 65,
   "id": "3c7640ec-48fd-4918-8a8a-f5399659c9e9",
   "metadata": {},
   "outputs": [
    {
     "data": {
      "text/plain": [
       "Married     857\n",
       "Together    573\n",
       "Single      471\n",
       "Divorced    232\n",
       "Widow        76\n",
       "Name: Marital_Status, dtype: int64"
      ]
     },
     "execution_count": 65,
     "metadata": {},
     "output_type": "execute_result"
    }
   ],
   "source": [
    "df['Marital_Status'].value_counts()"
   ]
  },
  {
   "cell_type": "code",
   "execution_count": 66,
   "id": "68f6cf9d-b88c-4749-8e98-b020ef437e60",
   "metadata": {},
   "outputs": [
    {
     "data": {
      "text/plain": [
       "Marital_Status\n",
       "Divorced    52834.228448\n",
       "Married     51724.978996\n",
       "Single      50995.350318\n",
       "Together    53245.534031\n",
       "Widow       56481.552632\n",
       "Name: Income, dtype: float64"
      ]
     },
     "execution_count": 66,
     "metadata": {},
     "output_type": "execute_result"
    }
   ],
   "source": [
    "df.groupby('Marital_Status')['Income'].mean()"
   ]
  },
  {
   "cell_type": "code",
   "execution_count": null,
   "id": "6e961e4d-8110-4e78-ab6d-ed124f6fa6ee",
   "metadata": {},
   "outputs": [],
   "source": []
  }
 ],
 "metadata": {
  "kernelspec": {
   "display_name": "Python 3 (ipykernel)",
   "language": "python",
   "name": "python3"
  },
  "language_info": {
   "codemirror_mode": {
    "name": "ipython",
    "version": 3
   },
   "file_extension": ".py",
   "mimetype": "text/x-python",
   "name": "python",
   "nbconvert_exporter": "python",
   "pygments_lexer": "ipython3",
   "version": "3.9.7"
  }
 },
 "nbformat": 4,
 "nbformat_minor": 5
}
