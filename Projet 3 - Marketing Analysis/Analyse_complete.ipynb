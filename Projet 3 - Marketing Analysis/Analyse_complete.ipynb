{
 "cells": [
  {
   "cell_type": "markdown",
   "metadata": {},
   "source": [
    "# **Marketing Data Analysis**\n",
    "**par Mohamed LAAJAJ**\n",
    "\n",
    "---"
   ]
  },
  {
   "cell_type": "markdown",
   "metadata": {},
   "source": [
    "## **Introduction**\n",
    "\n",
    "**Objectif :**  \n",
    "L'entreprise \"A\" a effectué plusieures campagnes marketing et souhaite mieux comprendre les résultats.\n",
    "\n",
    "**Section 1: Exploration des données**  \n",
    "* Import de nos données\n",
    "* Vérification du format & type de données \n",
    "* Création/modification de colonnes si besoin\n",
    "* Analyse univariée de nos données (moyenne, médiane, mode, quartile)\n",
    "* Pré-traitement : présence de valeurs extrêmes ou incorrectes ? \n",
    "\n",
    "**Section 2: Analyse statistique bivariée**  \n",
    "Nous allons dans cette partie effectuer plusieurs tests statistiques (ANOVA, Chi², T-Test) afin de comprendre les relations entre nos variables.\n",
    "Example de questions : \n",
    "* Relation entre la réponse à la campagne et les données quantitatives avec un test ANOVA \n",
    "* Relation entre la réponse à la campagne et les données quantitatives avec un test de Chi²\n",
    "* Relation entre nos variables quantitatives à l'aide d'un test de correlation\n",
    "\n",
    "**Section 3: Création d'un modèle simple de Machine Learning**  \n",
    "Après avoir analysé les relationns entre nos variables, nous pouvons construire un modèle simple de Machine Learning permettant de prédire les réponses à la campagne marketing, et donc de mieux cibler les prochaines campagnes.\n",
    "\n",
    "* Choix des variables et des modèles\n",
    "* Création d'une fonction permettant d'évaluer plusieurs modèles\n",
    "* Résultats\n"
   ]
  },
  {
   "cell_type": "code",
   "execution_count": 2,
   "metadata": {},
   "outputs": [],
   "source": [
    "import pandas as pd \n",
    "import numpy as np\n",
    "import matplotlib.pyplot as plt\n",
    "from scipy import stats\n",
    "import warnings\n",
    "import seaborn as sns\n",
    "\n",
    "from sklearn.model_selection import train_test_split\n",
    "from sklearn.linear_model import LogisticRegression\n",
    "from sklearn import svm\n",
    "from sklearn.ensemble import RandomForestClassifier\n",
    "from sklearn.model_selection import cross_val_score\n",
    "from sklearn.model_selection import RandomizedSearchCV\n",
    "from sklearn import metrics\n",
    "from sklearn.preprocessing import MinMaxScaler\n",
    "\n",
    "warnings.filterwarnings('ignore')\n",
    "pd.set_option('display.max.columns', 100)\n",
    "pd.set_option('display.max.rows', 200)\n",
    "pd.set_option('display.float_format', lambda x: '%.5f' % x)"
   ]
  },
  {
   "cell_type": "markdown",
   "metadata": {},
   "source": [
    "---"
   ]
  },
  {
   "cell_type": "markdown",
   "metadata": {},
   "source": [
    "## **Section 1 - Exploration univariée de nos données**\n"
   ]
  },
  {
   "cell_type": "markdown",
   "metadata": {},
   "source": [
    "* L'objectif de cette partie est d'avoir une vue globale sur notre jeu de données.  \n",
    "    * Types de données \n",
    "    * Création de colonnes   \n",
    "    * Statistiques descriptives  \n",
    "    * Valeurs manquantes, extrêmes ?    "
   ]
  },
  {
   "cell_type": "code",
   "execution_count": 3,
   "metadata": {},
   "outputs": [
    {
     "data": {
      "text/html": [
       "<div>\n",
       "<style scoped>\n",
       "    .dataframe tbody tr th:only-of-type {\n",
       "        vertical-align: middle;\n",
       "    }\n",
       "\n",
       "    .dataframe tbody tr th {\n",
       "        vertical-align: top;\n",
       "    }\n",
       "\n",
       "    .dataframe thead th {\n",
       "        text-align: right;\n",
       "    }\n",
       "</style>\n",
       "<table border=\"1\" class=\"dataframe\">\n",
       "  <thead>\n",
       "    <tr style=\"text-align: right;\">\n",
       "      <th></th>\n",
       "      <th>ID</th>\n",
       "      <th>Year_Birth</th>\n",
       "      <th>Education</th>\n",
       "      <th>Marital_Status</th>\n",
       "      <th>Income</th>\n",
       "      <th>Kidhome</th>\n",
       "      <th>Teenhome</th>\n",
       "      <th>Dt_Customer</th>\n",
       "      <th>Recency</th>\n",
       "      <th>MntWines</th>\n",
       "      <th>MntFruits</th>\n",
       "      <th>MntMeatProducts</th>\n",
       "      <th>MntFishProducts</th>\n",
       "      <th>MntSweetProducts</th>\n",
       "      <th>MntGoldProds</th>\n",
       "      <th>NumDealsPurchases</th>\n",
       "      <th>NumWebPurchases</th>\n",
       "      <th>NumCatalogPurchases</th>\n",
       "      <th>NumStorePurchases</th>\n",
       "      <th>NumWebVisitsMonth</th>\n",
       "      <th>AcceptedCmp3</th>\n",
       "      <th>AcceptedCmp4</th>\n",
       "      <th>AcceptedCmp5</th>\n",
       "      <th>AcceptedCmp1</th>\n",
       "      <th>AcceptedCmp2</th>\n",
       "      <th>Complain</th>\n",
       "      <th>Z_CostContact</th>\n",
       "      <th>Z_Revenue</th>\n",
       "      <th>Response</th>\n",
       "    </tr>\n",
       "  </thead>\n",
       "  <tbody>\n",
       "    <tr>\n",
       "      <th>0</th>\n",
       "      <td>5524</td>\n",
       "      <td>1957</td>\n",
       "      <td>Graduation</td>\n",
       "      <td>Single</td>\n",
       "      <td>58138.00000</td>\n",
       "      <td>0</td>\n",
       "      <td>0</td>\n",
       "      <td>2012-09-04</td>\n",
       "      <td>58</td>\n",
       "      <td>635</td>\n",
       "      <td>88</td>\n",
       "      <td>546</td>\n",
       "      <td>172</td>\n",
       "      <td>88</td>\n",
       "      <td>88</td>\n",
       "      <td>3</td>\n",
       "      <td>8</td>\n",
       "      <td>10</td>\n",
       "      <td>4</td>\n",
       "      <td>7</td>\n",
       "      <td>0</td>\n",
       "      <td>0</td>\n",
       "      <td>0</td>\n",
       "      <td>0</td>\n",
       "      <td>0</td>\n",
       "      <td>0</td>\n",
       "      <td>3</td>\n",
       "      <td>11</td>\n",
       "      <td>1</td>\n",
       "    </tr>\n",
       "    <tr>\n",
       "      <th>1</th>\n",
       "      <td>2174</td>\n",
       "      <td>1954</td>\n",
       "      <td>Graduation</td>\n",
       "      <td>Single</td>\n",
       "      <td>46344.00000</td>\n",
       "      <td>1</td>\n",
       "      <td>1</td>\n",
       "      <td>2014-03-08</td>\n",
       "      <td>38</td>\n",
       "      <td>11</td>\n",
       "      <td>1</td>\n",
       "      <td>6</td>\n",
       "      <td>2</td>\n",
       "      <td>1</td>\n",
       "      <td>6</td>\n",
       "      <td>2</td>\n",
       "      <td>1</td>\n",
       "      <td>1</td>\n",
       "      <td>2</td>\n",
       "      <td>5</td>\n",
       "      <td>0</td>\n",
       "      <td>0</td>\n",
       "      <td>0</td>\n",
       "      <td>0</td>\n",
       "      <td>0</td>\n",
       "      <td>0</td>\n",
       "      <td>3</td>\n",
       "      <td>11</td>\n",
       "      <td>0</td>\n",
       "    </tr>\n",
       "    <tr>\n",
       "      <th>2</th>\n",
       "      <td>4141</td>\n",
       "      <td>1965</td>\n",
       "      <td>Graduation</td>\n",
       "      <td>Together</td>\n",
       "      <td>71613.00000</td>\n",
       "      <td>0</td>\n",
       "      <td>0</td>\n",
       "      <td>2013-08-21</td>\n",
       "      <td>26</td>\n",
       "      <td>426</td>\n",
       "      <td>49</td>\n",
       "      <td>127</td>\n",
       "      <td>111</td>\n",
       "      <td>21</td>\n",
       "      <td>42</td>\n",
       "      <td>1</td>\n",
       "      <td>8</td>\n",
       "      <td>2</td>\n",
       "      <td>10</td>\n",
       "      <td>4</td>\n",
       "      <td>0</td>\n",
       "      <td>0</td>\n",
       "      <td>0</td>\n",
       "      <td>0</td>\n",
       "      <td>0</td>\n",
       "      <td>0</td>\n",
       "      <td>3</td>\n",
       "      <td>11</td>\n",
       "      <td>0</td>\n",
       "    </tr>\n",
       "    <tr>\n",
       "      <th>3</th>\n",
       "      <td>6182</td>\n",
       "      <td>1984</td>\n",
       "      <td>Graduation</td>\n",
       "      <td>Together</td>\n",
       "      <td>26646.00000</td>\n",
       "      <td>1</td>\n",
       "      <td>0</td>\n",
       "      <td>2014-02-10</td>\n",
       "      <td>26</td>\n",
       "      <td>11</td>\n",
       "      <td>4</td>\n",
       "      <td>20</td>\n",
       "      <td>10</td>\n",
       "      <td>3</td>\n",
       "      <td>5</td>\n",
       "      <td>2</td>\n",
       "      <td>2</td>\n",
       "      <td>0</td>\n",
       "      <td>4</td>\n",
       "      <td>6</td>\n",
       "      <td>0</td>\n",
       "      <td>0</td>\n",
       "      <td>0</td>\n",
       "      <td>0</td>\n",
       "      <td>0</td>\n",
       "      <td>0</td>\n",
       "      <td>3</td>\n",
       "      <td>11</td>\n",
       "      <td>0</td>\n",
       "    </tr>\n",
       "    <tr>\n",
       "      <th>4</th>\n",
       "      <td>5324</td>\n",
       "      <td>1981</td>\n",
       "      <td>PhD</td>\n",
       "      <td>Married</td>\n",
       "      <td>58293.00000</td>\n",
       "      <td>1</td>\n",
       "      <td>0</td>\n",
       "      <td>2014-01-19</td>\n",
       "      <td>94</td>\n",
       "      <td>173</td>\n",
       "      <td>43</td>\n",
       "      <td>118</td>\n",
       "      <td>46</td>\n",
       "      <td>27</td>\n",
       "      <td>15</td>\n",
       "      <td>5</td>\n",
       "      <td>5</td>\n",
       "      <td>3</td>\n",
       "      <td>6</td>\n",
       "      <td>5</td>\n",
       "      <td>0</td>\n",
       "      <td>0</td>\n",
       "      <td>0</td>\n",
       "      <td>0</td>\n",
       "      <td>0</td>\n",
       "      <td>0</td>\n",
       "      <td>3</td>\n",
       "      <td>11</td>\n",
       "      <td>0</td>\n",
       "    </tr>\n",
       "  </tbody>\n",
       "</table>\n",
       "</div>"
      ],
      "text/plain": [
       "     ID  Year_Birth   Education Marital_Status      Income  Kidhome  Teenhome  \\\n",
       "0  5524        1957  Graduation         Single 58138.00000        0         0   \n",
       "1  2174        1954  Graduation         Single 46344.00000        1         1   \n",
       "2  4141        1965  Graduation       Together 71613.00000        0         0   \n",
       "3  6182        1984  Graduation       Together 26646.00000        1         0   \n",
       "4  5324        1981         PhD        Married 58293.00000        1         0   \n",
       "\n",
       "  Dt_Customer  Recency  MntWines  MntFruits  MntMeatProducts  MntFishProducts  \\\n",
       "0  2012-09-04       58       635         88              546              172   \n",
       "1  2014-03-08       38        11          1                6                2   \n",
       "2  2013-08-21       26       426         49              127              111   \n",
       "3  2014-02-10       26        11          4               20               10   \n",
       "4  2014-01-19       94       173         43              118               46   \n",
       "\n",
       "   MntSweetProducts  MntGoldProds  NumDealsPurchases  NumWebPurchases  \\\n",
       "0                88            88                  3                8   \n",
       "1                 1             6                  2                1   \n",
       "2                21            42                  1                8   \n",
       "3                 3             5                  2                2   \n",
       "4                27            15                  5                5   \n",
       "\n",
       "   NumCatalogPurchases  NumStorePurchases  NumWebVisitsMonth  AcceptedCmp3  \\\n",
       "0                   10                  4                  7             0   \n",
       "1                    1                  2                  5             0   \n",
       "2                    2                 10                  4             0   \n",
       "3                    0                  4                  6             0   \n",
       "4                    3                  6                  5             0   \n",
       "\n",
       "   AcceptedCmp4  AcceptedCmp5  AcceptedCmp1  AcceptedCmp2  Complain  \\\n",
       "0             0             0             0             0         0   \n",
       "1             0             0             0             0         0   \n",
       "2             0             0             0             0         0   \n",
       "3             0             0             0             0         0   \n",
       "4             0             0             0             0         0   \n",
       "\n",
       "   Z_CostContact  Z_Revenue  Response  \n",
       "0              3         11         1  \n",
       "1              3         11         0  \n",
       "2              3         11         0  \n",
       "3              3         11         0  \n",
       "4              3         11         0  "
      ]
     },
     "execution_count": 3,
     "metadata": {},
     "output_type": "execute_result"
    }
   ],
   "source": [
    "#Import de nos données\n",
    "data = pd.read_excel('Excel/marketing_campaign.xlsx')\n",
    "data.head()"
   ]
  },
  {
   "cell_type": "code",
   "execution_count": 4,
   "metadata": {},
   "outputs": [
    {
     "data": {
      "text/plain": [
       "(2240, 29)"
      ]
     },
     "execution_count": 4,
     "metadata": {},
     "output_type": "execute_result"
    }
   ],
   "source": [
    "data.shape"
   ]
  },
  {
   "cell_type": "markdown",
   "metadata": {},
   "source": [
    "### **Types de données & création de colonnes**"
   ]
  },
  {
   "cell_type": "code",
   "execution_count": 5,
   "metadata": {},
   "outputs": [
    {
     "data": {
      "text/plain": [
       "ID                       int64\n",
       "Year_Birth               int64\n",
       "Education               object\n",
       "Marital_Status          object\n",
       "Income                 float64\n",
       "Kidhome                  int64\n",
       "Teenhome                 int64\n",
       "Dt_Customer             object\n",
       "Recency                  int64\n",
       "MntWines                 int64\n",
       "MntFruits                int64\n",
       "MntMeatProducts          int64\n",
       "MntFishProducts          int64\n",
       "MntSweetProducts         int64\n",
       "MntGoldProds             int64\n",
       "NumDealsPurchases        int64\n",
       "NumWebPurchases          int64\n",
       "NumCatalogPurchases      int64\n",
       "NumStorePurchases        int64\n",
       "NumWebVisitsMonth        int64\n",
       "AcceptedCmp3             int64\n",
       "AcceptedCmp4             int64\n",
       "AcceptedCmp5             int64\n",
       "AcceptedCmp1             int64\n",
       "AcceptedCmp2             int64\n",
       "Complain                 int64\n",
       "Z_CostContact            int64\n",
       "Z_Revenue                int64\n",
       "Response                 int64\n",
       "dtype: object"
      ]
     },
     "execution_count": 5,
     "metadata": {},
     "output_type": "execute_result"
    }
   ],
   "source": [
    "data.dtypes"
   ]
  },
  {
   "cell_type": "markdown",
   "metadata": {},
   "source": [
    "**Remarques :**\n",
    "\n",
    "Nous avons **3** variables qualitatives et **26** variables quantitatives."
   ]
  },
  {
   "cell_type": "markdown",
   "metadata": {},
   "source": [
    "Pour rappel, nous souhaitons savoir si une personne a, au moins répondu, à une enquête.  \n",
    "\n",
    "Nous allons créer plusieurs variables: \n",
    "\n",
    "-   **Reponse** : Nous avons plusieurs colonnes qui indiquent la réponse à une campagne. Ces colonnes commencent toutes par **\"AcceptedCmp\"**. 'Oui' si la somme des colonnes > 0, non si la somme est égale à 0.\n",
    "\n",
    "-   **Age** : Différence entre la date de réponse **Dt_Customer** et **Year_Birth**.  \n",
    "\n",
    "-   **Enfant** : La personne a-t-elle des enfants ? Oui si la somme entre **KidHome** et **Teenhome** >0.\n",
    "\n",
    "-   **Depenses** : Somme de toutes les colonnes 'Mnt'\n",
    "\n",
    "Nous allons jeter un coup d'oeil aux colonnes **Z_CostContact** & **Z_Revenue**.\n"
   ]
  },
  {
   "cell_type": "code",
   "execution_count": 6,
   "metadata": {},
   "outputs": [
    {
     "data": {
      "text/plain": [
       "['AcceptedCmp3',\n",
       " 'AcceptedCmp4',\n",
       " 'AcceptedCmp5',\n",
       " 'AcceptedCmp1',\n",
       " 'AcceptedCmp2']"
      ]
     },
     "execution_count": 6,
     "metadata": {},
     "output_type": "execute_result"
    }
   ],
   "source": [
    "# Commençons par obtenir l'ensemble des colonnes 'Accepted'\n",
    "\n",
    "accepted = [col for col in data.columns if 'Accepted' in col]\n",
    "accepted"
   ]
  },
  {
   "cell_type": "code",
   "execution_count": 7,
   "metadata": {},
   "outputs": [],
   "source": [
    "# Enfin, créons notre nouvelle colonne 'Reponse' qui aura pour valeur 'oui/non'\n",
    "# La personne a-t-elle acceptée ? \n",
    "\n",
    "data['Reponse'] = np.where(data[accepted].sum(axis=1)>0, 'oui','non')"
   ]
  },
  {
   "cell_type": "code",
   "execution_count": 8,
   "metadata": {},
   "outputs": [],
   "source": [
    "# Création de la colonne Age \n",
    "\n",
    "data['Age'] = pd.to_datetime(data['Dt_Customer']).dt.year - data['Year_Birth'] \n"
   ]
  },
  {
   "cell_type": "code",
   "execution_count": 9,
   "metadata": {},
   "outputs": [
    {
     "data": {
      "text/plain": [
       "(array([3]), array([11]))"
      ]
     },
     "execution_count": 9,
     "metadata": {},
     "output_type": "execute_result"
    }
   ],
   "source": [
    "# Regardons les colonnes Z_CostContact et Z_Revenue\n",
    "\n",
    "data.Z_CostContact.unique(), data.Z_Revenue.unique()"
   ]
  },
  {
   "cell_type": "markdown",
   "metadata": {},
   "source": [
    "Nous allons supprimer de notre jeu de données les colonnes **Z_CostContact**, **Z_Revenue**."
   ]
  },
  {
   "cell_type": "code",
   "execution_count": 10,
   "metadata": {},
   "outputs": [],
   "source": [
    "# Création de la colonne Enfants\n",
    "# La personne a-t-elle des enfants ? \n",
    "\n",
    "\n",
    "data['Enfant'] = np.where(data.Kidhome + data.Teenhome > 0, 'Oui', 'Non')"
   ]
  },
  {
   "cell_type": "code",
   "execution_count": 11,
   "metadata": {},
   "outputs": [],
   "source": [
    "# Création de la colonne \"Dépenses\"\n",
    "\n",
    "mnt = [n for n in data.columns if 'Mnt' in n]\n",
    "\n",
    "data['Depenses'] = data[mnt].sum(axis=1)"
   ]
  },
  {
   "cell_type": "code",
   "execution_count": 12,
   "metadata": {},
   "outputs": [],
   "source": [
    "# Partons de la liste accepted. Nous allons l'alimenter avec les autres colonnes\n",
    "\n",
    "accepted.extend(['Teenhome','Kidhome', 'Z_CostContact', 'Z_Revenue','Dt_Customer','Year_Birth','Response','ID'])\n",
    "accepted.extend(mnt)"
   ]
  },
  {
   "cell_type": "code",
   "execution_count": 13,
   "metadata": {},
   "outputs": [
    {
     "data": {
      "text/plain": [
       "['AcceptedCmp3',\n",
       " 'AcceptedCmp4',\n",
       " 'AcceptedCmp5',\n",
       " 'AcceptedCmp1',\n",
       " 'AcceptedCmp2',\n",
       " 'Teenhome',\n",
       " 'Kidhome',\n",
       " 'Z_CostContact',\n",
       " 'Z_Revenue',\n",
       " 'Dt_Customer',\n",
       " 'Year_Birth',\n",
       " 'Response',\n",
       " 'ID',\n",
       " 'MntWines',\n",
       " 'MntFruits',\n",
       " 'MntMeatProducts',\n",
       " 'MntFishProducts',\n",
       " 'MntSweetProducts',\n",
       " 'MntGoldProds']"
      ]
     },
     "execution_count": 13,
     "metadata": {},
     "output_type": "execute_result"
    }
   ],
   "source": [
    "accepted"
   ]
  },
  {
   "cell_type": "code",
   "execution_count": 14,
   "metadata": {},
   "outputs": [],
   "source": [
    "df = data.drop(columns = accepted)"
   ]
  },
  {
   "cell_type": "code",
   "execution_count": 15,
   "metadata": {},
   "outputs": [
    {
     "data": {
      "text/html": [
       "<div>\n",
       "<style scoped>\n",
       "    .dataframe tbody tr th:only-of-type {\n",
       "        vertical-align: middle;\n",
       "    }\n",
       "\n",
       "    .dataframe tbody tr th {\n",
       "        vertical-align: top;\n",
       "    }\n",
       "\n",
       "    .dataframe thead th {\n",
       "        text-align: right;\n",
       "    }\n",
       "</style>\n",
       "<table border=\"1\" class=\"dataframe\">\n",
       "  <thead>\n",
       "    <tr style=\"text-align: right;\">\n",
       "      <th></th>\n",
       "      <th>Education</th>\n",
       "      <th>Marital_Status</th>\n",
       "      <th>Income</th>\n",
       "      <th>Recency</th>\n",
       "      <th>NumDealsPurchases</th>\n",
       "      <th>NumWebPurchases</th>\n",
       "      <th>NumCatalogPurchases</th>\n",
       "      <th>NumStorePurchases</th>\n",
       "      <th>NumWebVisitsMonth</th>\n",
       "      <th>Complain</th>\n",
       "      <th>Reponse</th>\n",
       "      <th>Age</th>\n",
       "      <th>Enfant</th>\n",
       "      <th>Depenses</th>\n",
       "    </tr>\n",
       "  </thead>\n",
       "  <tbody>\n",
       "    <tr>\n",
       "      <th>0</th>\n",
       "      <td>Graduation</td>\n",
       "      <td>Single</td>\n",
       "      <td>58138.00000</td>\n",
       "      <td>58</td>\n",
       "      <td>3</td>\n",
       "      <td>8</td>\n",
       "      <td>10</td>\n",
       "      <td>4</td>\n",
       "      <td>7</td>\n",
       "      <td>0</td>\n",
       "      <td>non</td>\n",
       "      <td>55</td>\n",
       "      <td>Non</td>\n",
       "      <td>1617</td>\n",
       "    </tr>\n",
       "    <tr>\n",
       "      <th>1</th>\n",
       "      <td>Graduation</td>\n",
       "      <td>Single</td>\n",
       "      <td>46344.00000</td>\n",
       "      <td>38</td>\n",
       "      <td>2</td>\n",
       "      <td>1</td>\n",
       "      <td>1</td>\n",
       "      <td>2</td>\n",
       "      <td>5</td>\n",
       "      <td>0</td>\n",
       "      <td>non</td>\n",
       "      <td>60</td>\n",
       "      <td>Oui</td>\n",
       "      <td>27</td>\n",
       "    </tr>\n",
       "    <tr>\n",
       "      <th>2</th>\n",
       "      <td>Graduation</td>\n",
       "      <td>Together</td>\n",
       "      <td>71613.00000</td>\n",
       "      <td>26</td>\n",
       "      <td>1</td>\n",
       "      <td>8</td>\n",
       "      <td>2</td>\n",
       "      <td>10</td>\n",
       "      <td>4</td>\n",
       "      <td>0</td>\n",
       "      <td>non</td>\n",
       "      <td>48</td>\n",
       "      <td>Non</td>\n",
       "      <td>776</td>\n",
       "    </tr>\n",
       "    <tr>\n",
       "      <th>3</th>\n",
       "      <td>Graduation</td>\n",
       "      <td>Together</td>\n",
       "      <td>26646.00000</td>\n",
       "      <td>26</td>\n",
       "      <td>2</td>\n",
       "      <td>2</td>\n",
       "      <td>0</td>\n",
       "      <td>4</td>\n",
       "      <td>6</td>\n",
       "      <td>0</td>\n",
       "      <td>non</td>\n",
       "      <td>30</td>\n",
       "      <td>Oui</td>\n",
       "      <td>53</td>\n",
       "    </tr>\n",
       "    <tr>\n",
       "      <th>4</th>\n",
       "      <td>PhD</td>\n",
       "      <td>Married</td>\n",
       "      <td>58293.00000</td>\n",
       "      <td>94</td>\n",
       "      <td>5</td>\n",
       "      <td>5</td>\n",
       "      <td>3</td>\n",
       "      <td>6</td>\n",
       "      <td>5</td>\n",
       "      <td>0</td>\n",
       "      <td>non</td>\n",
       "      <td>33</td>\n",
       "      <td>Oui</td>\n",
       "      <td>422</td>\n",
       "    </tr>\n",
       "  </tbody>\n",
       "</table>\n",
       "</div>"
      ],
      "text/plain": [
       "    Education Marital_Status      Income  Recency  NumDealsPurchases  \\\n",
       "0  Graduation         Single 58138.00000       58                  3   \n",
       "1  Graduation         Single 46344.00000       38                  2   \n",
       "2  Graduation       Together 71613.00000       26                  1   \n",
       "3  Graduation       Together 26646.00000       26                  2   \n",
       "4         PhD        Married 58293.00000       94                  5   \n",
       "\n",
       "   NumWebPurchases  NumCatalogPurchases  NumStorePurchases  NumWebVisitsMonth  \\\n",
       "0                8                   10                  4                  7   \n",
       "1                1                    1                  2                  5   \n",
       "2                8                    2                 10                  4   \n",
       "3                2                    0                  4                  6   \n",
       "4                5                    3                  6                  5   \n",
       "\n",
       "   Complain Reponse  Age Enfant  Depenses  \n",
       "0         0     non   55    Non      1617  \n",
       "1         0     non   60    Oui        27  \n",
       "2         0     non   48    Non       776  \n",
       "3         0     non   30    Oui        53  \n",
       "4         0     non   33    Oui       422  "
      ]
     },
     "execution_count": 15,
     "metadata": {},
     "output_type": "execute_result"
    }
   ],
   "source": [
    "df.head()"
   ]
  },
  {
   "cell_type": "markdown",
   "metadata": {},
   "source": [
    "### **Statistiques descriptives**"
   ]
  },
  {
   "cell_type": "code",
   "execution_count": 16,
   "metadata": {},
   "outputs": [],
   "source": [
    "# Création d'une fonction qui affiche un DataFrame contenant une analyse univariée de notre jeu de données.\n",
    "\n",
    "def stats_descriptives(df, col=None): \n",
    "    #La fonction prend en entrée un DataFrame et, optionnelement, une colonne nous permettant de filter notre résultat final.\n",
    "    \n",
    "    # Le résultat final est un dataframe contenant les colonnes suivantes.\n",
    "    output = pd.DataFrame(columns = ['Type', 'Count', 'Valeurs Manquantes', 'Nb Valeurs uniques' ,'Mode', 'Moyenne', 'Min', \n",
    "    'Q1', 'Median', 'Q3', 'Max', 'Skewness', 'Kurtosis'])\n",
    "    \n",
    "    # Vérification si l'argument optionnel est utilisé ou non\n",
    "    if col == None:\n",
    "        cols= df.columns\n",
    "    else:\n",
    "        cols = [col]\n",
    "\n",
    "    # La fonction va effectuer une boucle sur l'ensemble des colonnes. \n",
    "    for element in cols:\n",
    "\n",
    "        # Ici, la fonction va d'abord filtrer sur les données de type quantitatives.\n",
    "        # Nous ne pouvons en effet pas calculer de moyenne sur des données qualitatives. \n",
    "        if pd.api.types.is_numeric_dtype(df[element]) :\n",
    "            type = df[element].dtype\n",
    "            count = df[element].count()\n",
    "            v_m = df[element].isnull().sum()\n",
    "            v_u = df[element].nunique()\n",
    "            mode = df[element].mode()[0]\n",
    "            moyenne = round(df[element].mean(),2)\n",
    "            min = df[element].min()\n",
    "            q1 = df[element].quantile(0.25)\n",
    "            median = df[element].median()\n",
    "            q3 = df[element].quantile(0.75)\n",
    "            max = df[element].max()\n",
    "            skewness = round(df[element].skew(),3)\n",
    "            kurtosis = round(df[element].kurtosis(),3)\n",
    "\n",
    "            output.loc[element] = [type,count,v_m,v_u,mode,moyenne,min,q1,median,q3,max,skewness,kurtosis]\n",
    "\n",
    "        else:\n",
    "            type = df[element].dtype\n",
    "            count = df[element].count()\n",
    "            v_m = df[element].isnull().sum()\n",
    "            v_u = df[element].nunique()\n",
    "            mode = df[element].mode()[0]\n",
    "            \n",
    "            output.loc[element] = [type,count,v_m,v_u,mode,'-','-','-','-','-','-','-','-']\n",
    "\n",
    "    return output.sort_values(by='Type')        \n",
    "\n"
   ]
  },
  {
   "cell_type": "code",
   "execution_count": 17,
   "metadata": {},
   "outputs": [
    {
     "data": {
      "text/html": [
       "<div>\n",
       "<style scoped>\n",
       "    .dataframe tbody tr th:only-of-type {\n",
       "        vertical-align: middle;\n",
       "    }\n",
       "\n",
       "    .dataframe tbody tr th {\n",
       "        vertical-align: top;\n",
       "    }\n",
       "\n",
       "    .dataframe thead th {\n",
       "        text-align: right;\n",
       "    }\n",
       "</style>\n",
       "<table border=\"1\" class=\"dataframe\">\n",
       "  <thead>\n",
       "    <tr style=\"text-align: right;\">\n",
       "      <th></th>\n",
       "      <th>Type</th>\n",
       "      <th>Count</th>\n",
       "      <th>Valeurs Manquantes</th>\n",
       "      <th>Nb Valeurs uniques</th>\n",
       "      <th>Mode</th>\n",
       "      <th>Moyenne</th>\n",
       "      <th>Min</th>\n",
       "      <th>Q1</th>\n",
       "      <th>Median</th>\n",
       "      <th>Q3</th>\n",
       "      <th>Max</th>\n",
       "      <th>Skewness</th>\n",
       "      <th>Kurtosis</th>\n",
       "    </tr>\n",
       "  </thead>\n",
       "  <tbody>\n",
       "    <tr>\n",
       "      <th>Recency</th>\n",
       "      <td>int64</td>\n",
       "      <td>2240</td>\n",
       "      <td>0</td>\n",
       "      <td>100</td>\n",
       "      <td>56</td>\n",
       "      <td>49.11000</td>\n",
       "      <td>0</td>\n",
       "      <td>24.00000</td>\n",
       "      <td>49.00000</td>\n",
       "      <td>74.00000</td>\n",
       "      <td>99</td>\n",
       "      <td>-0.00200</td>\n",
       "      <td>-1.20200</td>\n",
       "    </tr>\n",
       "    <tr>\n",
       "      <th>NumDealsPurchases</th>\n",
       "      <td>int64</td>\n",
       "      <td>2240</td>\n",
       "      <td>0</td>\n",
       "      <td>15</td>\n",
       "      <td>1</td>\n",
       "      <td>2.33000</td>\n",
       "      <td>0</td>\n",
       "      <td>1.00000</td>\n",
       "      <td>2.00000</td>\n",
       "      <td>3.00000</td>\n",
       "      <td>15</td>\n",
       "      <td>2.41900</td>\n",
       "      <td>8.93700</td>\n",
       "    </tr>\n",
       "    <tr>\n",
       "      <th>NumWebPurchases</th>\n",
       "      <td>int64</td>\n",
       "      <td>2240</td>\n",
       "      <td>0</td>\n",
       "      <td>15</td>\n",
       "      <td>2</td>\n",
       "      <td>4.08000</td>\n",
       "      <td>0</td>\n",
       "      <td>2.00000</td>\n",
       "      <td>4.00000</td>\n",
       "      <td>6.00000</td>\n",
       "      <td>27</td>\n",
       "      <td>1.38300</td>\n",
       "      <td>5.70300</td>\n",
       "    </tr>\n",
       "    <tr>\n",
       "      <th>NumCatalogPurchases</th>\n",
       "      <td>int64</td>\n",
       "      <td>2240</td>\n",
       "      <td>0</td>\n",
       "      <td>14</td>\n",
       "      <td>0</td>\n",
       "      <td>2.66000</td>\n",
       "      <td>0</td>\n",
       "      <td>0.00000</td>\n",
       "      <td>2.00000</td>\n",
       "      <td>4.00000</td>\n",
       "      <td>28</td>\n",
       "      <td>1.88100</td>\n",
       "      <td>8.04700</td>\n",
       "    </tr>\n",
       "    <tr>\n",
       "      <th>NumStorePurchases</th>\n",
       "      <td>int64</td>\n",
       "      <td>2240</td>\n",
       "      <td>0</td>\n",
       "      <td>14</td>\n",
       "      <td>3</td>\n",
       "      <td>5.79000</td>\n",
       "      <td>0</td>\n",
       "      <td>3.00000</td>\n",
       "      <td>5.00000</td>\n",
       "      <td>8.00000</td>\n",
       "      <td>13</td>\n",
       "      <td>0.70200</td>\n",
       "      <td>-0.62200</td>\n",
       "    </tr>\n",
       "    <tr>\n",
       "      <th>NumWebVisitsMonth</th>\n",
       "      <td>int64</td>\n",
       "      <td>2240</td>\n",
       "      <td>0</td>\n",
       "      <td>16</td>\n",
       "      <td>7</td>\n",
       "      <td>5.32000</td>\n",
       "      <td>0</td>\n",
       "      <td>3.00000</td>\n",
       "      <td>6.00000</td>\n",
       "      <td>7.00000</td>\n",
       "      <td>20</td>\n",
       "      <td>0.20800</td>\n",
       "      <td>1.82200</td>\n",
       "    </tr>\n",
       "    <tr>\n",
       "      <th>Complain</th>\n",
       "      <td>int64</td>\n",
       "      <td>2240</td>\n",
       "      <td>0</td>\n",
       "      <td>2</td>\n",
       "      <td>0</td>\n",
       "      <td>0.01000</td>\n",
       "      <td>0</td>\n",
       "      <td>0.00000</td>\n",
       "      <td>0.00000</td>\n",
       "      <td>0.00000</td>\n",
       "      <td>1</td>\n",
       "      <td>10.18900</td>\n",
       "      <td>101.90600</td>\n",
       "    </tr>\n",
       "    <tr>\n",
       "      <th>Age</th>\n",
       "      <td>int64</td>\n",
       "      <td>2240</td>\n",
       "      <td>0</td>\n",
       "      <td>61</td>\n",
       "      <td>41</td>\n",
       "      <td>44.22000</td>\n",
       "      <td>16</td>\n",
       "      <td>36.00000</td>\n",
       "      <td>43.00000</td>\n",
       "      <td>54.00000</td>\n",
       "      <td>121</td>\n",
       "      <td>0.35100</td>\n",
       "      <td>0.73700</td>\n",
       "    </tr>\n",
       "    <tr>\n",
       "      <th>Depenses</th>\n",
       "      <td>int64</td>\n",
       "      <td>2240</td>\n",
       "      <td>0</td>\n",
       "      <td>1054</td>\n",
       "      <td>46</td>\n",
       "      <td>605.80000</td>\n",
       "      <td>5</td>\n",
       "      <td>68.75000</td>\n",
       "      <td>396.00000</td>\n",
       "      <td>1045.50000</td>\n",
       "      <td>2525</td>\n",
       "      <td>0.86100</td>\n",
       "      <td>-0.34200</td>\n",
       "    </tr>\n",
       "    <tr>\n",
       "      <th>Income</th>\n",
       "      <td>float64</td>\n",
       "      <td>2216</td>\n",
       "      <td>24</td>\n",
       "      <td>1974</td>\n",
       "      <td>7500.00000</td>\n",
       "      <td>52247.25000</td>\n",
       "      <td>1730.00000</td>\n",
       "      <td>35303.00000</td>\n",
       "      <td>51381.50000</td>\n",
       "      <td>68522.00000</td>\n",
       "      <td>666666.00000</td>\n",
       "      <td>6.76300</td>\n",
       "      <td>159.63700</td>\n",
       "    </tr>\n",
       "    <tr>\n",
       "      <th>Education</th>\n",
       "      <td>object</td>\n",
       "      <td>2240</td>\n",
       "      <td>0</td>\n",
       "      <td>5</td>\n",
       "      <td>Graduation</td>\n",
       "      <td>-</td>\n",
       "      <td>-</td>\n",
       "      <td>-</td>\n",
       "      <td>-</td>\n",
       "      <td>-</td>\n",
       "      <td>-</td>\n",
       "      <td>-</td>\n",
       "      <td>-</td>\n",
       "    </tr>\n",
       "    <tr>\n",
       "      <th>Marital_Status</th>\n",
       "      <td>object</td>\n",
       "      <td>2240</td>\n",
       "      <td>0</td>\n",
       "      <td>8</td>\n",
       "      <td>Married</td>\n",
       "      <td>-</td>\n",
       "      <td>-</td>\n",
       "      <td>-</td>\n",
       "      <td>-</td>\n",
       "      <td>-</td>\n",
       "      <td>-</td>\n",
       "      <td>-</td>\n",
       "      <td>-</td>\n",
       "    </tr>\n",
       "    <tr>\n",
       "      <th>Reponse</th>\n",
       "      <td>object</td>\n",
       "      <td>2240</td>\n",
       "      <td>0</td>\n",
       "      <td>2</td>\n",
       "      <td>non</td>\n",
       "      <td>-</td>\n",
       "      <td>-</td>\n",
       "      <td>-</td>\n",
       "      <td>-</td>\n",
       "      <td>-</td>\n",
       "      <td>-</td>\n",
       "      <td>-</td>\n",
       "      <td>-</td>\n",
       "    </tr>\n",
       "    <tr>\n",
       "      <th>Enfant</th>\n",
       "      <td>object</td>\n",
       "      <td>2240</td>\n",
       "      <td>0</td>\n",
       "      <td>2</td>\n",
       "      <td>Oui</td>\n",
       "      <td>-</td>\n",
       "      <td>-</td>\n",
       "      <td>-</td>\n",
       "      <td>-</td>\n",
       "      <td>-</td>\n",
       "      <td>-</td>\n",
       "      <td>-</td>\n",
       "      <td>-</td>\n",
       "    </tr>\n",
       "  </tbody>\n",
       "</table>\n",
       "</div>"
      ],
      "text/plain": [
       "                        Type Count Valeurs Manquantes Nb Valeurs uniques  \\\n",
       "Recency                int64  2240                  0                100   \n",
       "NumDealsPurchases      int64  2240                  0                 15   \n",
       "NumWebPurchases        int64  2240                  0                 15   \n",
       "NumCatalogPurchases    int64  2240                  0                 14   \n",
       "NumStorePurchases      int64  2240                  0                 14   \n",
       "NumWebVisitsMonth      int64  2240                  0                 16   \n",
       "Complain               int64  2240                  0                  2   \n",
       "Age                    int64  2240                  0                 61   \n",
       "Depenses               int64  2240                  0               1054   \n",
       "Income               float64  2216                 24               1974   \n",
       "Education             object  2240                  0                  5   \n",
       "Marital_Status        object  2240                  0                  8   \n",
       "Reponse               object  2240                  0                  2   \n",
       "Enfant                object  2240                  0                  2   \n",
       "\n",
       "                           Mode     Moyenne        Min          Q1  \\\n",
       "Recency                      56    49.11000          0    24.00000   \n",
       "NumDealsPurchases             1     2.33000          0     1.00000   \n",
       "NumWebPurchases               2     4.08000          0     2.00000   \n",
       "NumCatalogPurchases           0     2.66000          0     0.00000   \n",
       "NumStorePurchases             3     5.79000          0     3.00000   \n",
       "NumWebVisitsMonth             7     5.32000          0     3.00000   \n",
       "Complain                      0     0.01000          0     0.00000   \n",
       "Age                          41    44.22000         16    36.00000   \n",
       "Depenses                     46   605.80000          5    68.75000   \n",
       "Income               7500.00000 52247.25000 1730.00000 35303.00000   \n",
       "Education            Graduation           -          -           -   \n",
       "Marital_Status          Married           -          -           -   \n",
       "Reponse                     non           -          -           -   \n",
       "Enfant                      Oui           -          -           -   \n",
       "\n",
       "                         Median          Q3          Max Skewness  Kurtosis  \n",
       "Recency                49.00000    74.00000           99 -0.00200  -1.20200  \n",
       "NumDealsPurchases       2.00000     3.00000           15  2.41900   8.93700  \n",
       "NumWebPurchases         4.00000     6.00000           27  1.38300   5.70300  \n",
       "NumCatalogPurchases     2.00000     4.00000           28  1.88100   8.04700  \n",
       "NumStorePurchases       5.00000     8.00000           13  0.70200  -0.62200  \n",
       "NumWebVisitsMonth       6.00000     7.00000           20  0.20800   1.82200  \n",
       "Complain                0.00000     0.00000            1 10.18900 101.90600  \n",
       "Age                    43.00000    54.00000          121  0.35100   0.73700  \n",
       "Depenses              396.00000  1045.50000         2525  0.86100  -0.34200  \n",
       "Income              51381.50000 68522.00000 666666.00000  6.76300 159.63700  \n",
       "Education                     -           -            -        -         -  \n",
       "Marital_Status                -           -            -        -         -  \n",
       "Reponse                       -           -            -        -         -  \n",
       "Enfant                        -           -            -        -         -  "
      ]
     },
     "execution_count": 17,
     "metadata": {},
     "output_type": "execute_result"
    }
   ],
   "source": [
    "stats_descriptives(df)"
   ]
  },
  {
   "cell_type": "markdown",
   "metadata": {},
   "source": [
    "Quelques informations: \n",
    "\n",
    "-   **Valeurs manquantes** : 24 valeurs manquantes pour la colonne **Income**\n",
    "\n",
    "-   **Valeurs extrêmes** : Présence de valeurs extrêmes dans la colonne **Income** (666666.0)\n",
    "\n",
    "-   **Shapiro Test** : Aucune de nos variables quantitatives ne suit une distribution normale. \n"
   ]
  },
  {
   "cell_type": "markdown",
   "metadata": {},
   "source": [
    "### **Gestion des valeurs extrêmes et des valeurs manquantes (données quantitatives)**"
   ]
  },
  {
   "cell_type": "markdown",
   "metadata": {},
   "source": [
    "#### **Les valeurs extrêmes**"
   ]
  },
  {
   "cell_type": "code",
   "execution_count": 18,
   "metadata": {},
   "outputs": [
    {
     "data": {
      "text/plain": [
       "<seaborn.axisgrid.FacetGrid at 0x7fa813550fd0>"
      ]
     },
     "execution_count": 18,
     "metadata": {},
     "output_type": "execute_result"
    },
    {
     "data": {
      "image/png": "[encoded data removed]",
      "text/plain": [
       "<Figure size 1080x432 with 10 Axes>"
      ]
     },
     "metadata": {
      "needs_background": "light"
     },
     "output_type": "display_data"
    }
   ],
   "source": [
    "num_col = [n for n in df.select_dtypes(np.number).columns ]\n",
    "\n",
    "output = pd.DataFrame(data=df, columns=num_col)\n",
    "\n",
    "nd = pd.melt(output, value_vars =output )\n",
    "n1 = sns.FacetGrid (nd, col='variable', col_wrap=5, sharex=False, sharey = False)\n",
    "n1 = n1.map(sns.histplot, 'value')\n",
    "n1"
   ]
  },
  {
   "cell_type": "code",
   "execution_count": 19,
   "metadata": {},
   "outputs": [],
   "source": [
    "# Utilisation de l'écart interquartile pour détecter les valeurs extrêmes.\n",
    "\n",
    "def ecart_interquartile(df,col):\n",
    "    Q1 = df[col].quantile(0.25)\n",
    "    Q3 = df[col].quantile(0.75)\n",
    "    IQR = Q3-Q1\n",
    "    limite_basse = Q1-1.5*IQR\n",
    "    limite_haute = IQR+1.5*IQR \n",
    "    return limite_basse, limite_haute\n",
    "\n",
    "# Nous pouvons par la suite filtrer notre jeu de données sur ces valeurs pour tenter de les comprendre."
   ]
  },
  {
   "cell_type": "code",
   "execution_count": 20,
   "metadata": {},
   "outputs": [
    {
     "data": {
      "text/plain": [
       "(-14525.5, 83047.5)"
      ]
     },
     "execution_count": 20,
     "metadata": {},
     "output_type": "execute_result"
    }
   ],
   "source": [
    "ecart_interquartile(df,'Income')"
   ]
  },
  {
   "cell_type": "markdown",
   "metadata": {},
   "source": [
    "Pour la colonne **Income**, toutes les valeurs qui sont inférieurs à 0 (ici valeurs négatives) ou supérieurs à 83047.5 sont considérées comme des valeurs extrêmes.  \n",
    "Nous allons uniquement supprimer les valeurs pour lesquelles le salaire est supérieur à 600.000 et les âges supérieurs à 100 ans"
   ]
  },
  {
   "cell_type": "code",
   "execution_count": 21,
   "metadata": {},
   "outputs": [],
   "source": [
    "# Supprimons les valeurs extrêmes \n",
    "df = df[(df['Income']< 600000) & (df['Age']< 100) ]\n"
   ]
  },
  {
   "cell_type": "code",
   "execution_count": 22,
   "metadata": {},
   "outputs": [
    {
     "data": {
      "text/plain": [
       "162397.0"
      ]
     },
     "execution_count": 22,
     "metadata": {},
     "output_type": "execute_result"
    }
   ],
   "source": [
    "df.Income.max()"
   ]
  },
  {
   "cell_type": "code",
   "execution_count": 23,
   "metadata": {},
   "outputs": [
    {
     "data": {
      "image/png": "[encoded data removed]",
      "text/plain": [
       "<Figure size 1296x216 with 2 Axes>"
      ]
     },
     "metadata": {
      "needs_background": "light"
     },
     "output_type": "display_data"
    }
   ],
   "source": [
    "fig, axes = plt.subplots(1,2, figsize=(18,3))\n",
    "sns.boxplot(ax= axes[0], data = df, x='Income')\n",
    "sns.boxplot(ax= axes[1], data = df, x='Age')\n",
    "plt.show()"
   ]
  },
  {
   "cell_type": "markdown",
   "metadata": {},
   "source": [
    "#### **Les valeurs manquantes**"
   ]
  },
  {
   "cell_type": "markdown",
   "metadata": {},
   "source": [
    "Il y a plusieurs manières de \"gérer\" les données manquantes:\n",
    "* Supprimer les lignes qui contiennent des valeurs manquantes  \n",
    "* Remplacer les valeurs par une estimation (médiane)  \n",
    "* Utiliser un algorithme KNN pour analyser les données et remplacer les données manquantes par les valeurs du groupe.  "
   ]
  },
  {
   "cell_type": "code",
   "execution_count": 24,
   "metadata": {},
   "outputs": [
    {
     "data": {
      "text/plain": [
       "Education              0\n",
       "Marital_Status         0\n",
       "Income                 0\n",
       "Recency                0\n",
       "NumDealsPurchases      0\n",
       "NumWebPurchases        0\n",
       "NumCatalogPurchases    0\n",
       "NumStorePurchases      0\n",
       "NumWebVisitsMonth      0\n",
       "Complain               0\n",
       "Reponse                0\n",
       "Age                    0\n",
       "Enfant                 0\n",
       "Depenses               0\n",
       "dtype: int64"
      ]
     },
     "execution_count": 24,
     "metadata": {},
     "output_type": "execute_result"
    }
   ],
   "source": [
    "# Nous allons utiliser la dernière méthode : la méthode KNN\n",
    "\n",
    "from sklearn.impute import KNNImputer\n",
    "\n",
    "imputer = KNNImputer()\n",
    "\n",
    "imputer = KNNImputer(n_neighbors=5,metric='nan_euclidean')\n",
    "\n",
    "# fit on the dataset\n",
    "imputer.fit(df[['Income','Age','NumDealsPurchases','NumWebPurchases','NumCatalogPurchases', 'NumStorePurchases',\n",
    "       'NumWebVisitsMonth','Depenses']])\n",
    "\n",
    "# transform the dataset\n",
    "X = imputer.transform(df[['Income','Age','NumDealsPurchases','NumWebPurchases','NumCatalogPurchases', 'NumStorePurchases',\n",
    "       'NumWebVisitsMonth','Depenses']])\n",
    "\n",
    "Income_impute=pd.DataFrame(X,columns=['Income','Age','NumDealsPurchases','NumWebPurchases','NumCatalogPurchases', 'NumStorePurchases',\n",
    "       'NumWebVisitsMonth','Depenses'])\n",
    "\n",
    "\n",
    "df['Income']=Income_impute['Income'].values\n",
    "\n",
    "df.isnull().sum()"
   ]
  },
  {
   "cell_type": "markdown",
   "metadata": {},
   "source": [
    "### **Nos variables qualitatives**"
   ]
  },
  {
   "cell_type": "code",
   "execution_count": 25,
   "metadata": {},
   "outputs": [
    {
     "name": "stdout",
     "output_type": "stream",
     "text": [
      "Education\n",
      "Nbre de valeurs uniques : 5\n",
      "['Graduation' 'PhD' 'Master' 'Basic' '2n Cycle']\n",
      "---------\n",
      "Marital_Status\n",
      "Nbre de valeurs uniques : 8\n",
      "['Single' 'Together' 'Married' 'Divorced' 'Widow' 'Alone' 'Absurd' 'YOLO']\n",
      "---------\n",
      "Reponse\n",
      "Nbre de valeurs uniques : 2\n",
      "['non' 'oui']\n",
      "---------\n",
      "Enfant\n",
      "Nbre de valeurs uniques : 2\n",
      "['Non' 'Oui']\n",
      "---------\n"
     ]
    }
   ],
   "source": [
    "cat_col = [col for col in df.select_dtypes('object').columns]\n",
    "\n",
    "for col in cat_col:\n",
    "    print(col)\n",
    "    print(f\"Nbre de valeurs uniques : {df[col].nunique()}\")\n",
    "    print(df[col].unique())\n",
    "    print('---------')"
   ]
  },
  {
   "cell_type": "code",
   "execution_count": 26,
   "metadata": {},
   "outputs": [
    {
     "data": {
      "text/plain": [
       "Married     857\n",
       "Together    571\n",
       "Single      470\n",
       "Divorced    231\n",
       "Widow        76\n",
       "Alone         3\n",
       "Absurd        2\n",
       "YOLO          2\n",
       "Name: Marital_Status, dtype: int64"
      ]
     },
     "execution_count": 26,
     "metadata": {},
     "output_type": "execute_result"
    }
   ],
   "source": [
    "# Jetons un coup d'oeil à la colonne 'Marital_Status'\n",
    "df['Marital_Status'].value_counts()"
   ]
  },
  {
   "cell_type": "code",
   "execution_count": 27,
   "metadata": {},
   "outputs": [],
   "source": [
    "# Nous allons remplacer les valeurs YOLO, Absurd et Alone par Single\n",
    "\n",
    "valeurs = [\"YOLO\",'Absurd','Alone']\n",
    "\n",
    "def valeurs_remplacer(x):\n",
    "    if x in valeurs:\n",
    "        return 'Single'\n",
    "    else:\n",
    "        return x\n",
    "\n",
    "df['Marital_Status'] =  df['Marital_Status'].apply(lambda x : valeurs_remplacer(x))"
   ]
  },
  {
   "cell_type": "markdown",
   "metadata": {},
   "source": [
    "> Conclusion de la partie:\n",
    ">  * Test "
   ]
  },
  {
   "cell_type": "markdown",
   "metadata": {},
   "source": [
    "---"
   ]
  },
  {
   "cell_type": "markdown",
   "metadata": {},
   "source": [
    "## **Quelques visualisations**\n"
   ]
  },
  {
   "cell_type": "markdown",
   "metadata": {},
   "source": [
    "### **Relation entre la Reponse et nos variables quantitatives**"
   ]
  },
  {
   "cell_type": "code",
   "execution_count": 28,
   "metadata": {},
   "outputs": [],
   "source": [
    "def cat_num_plot(df, num_col, cat_col='Reponse'):\n",
    "    sns.set_theme(style=\"whitegrid\")\n",
    "    fig, axes = plt.subplots(1,3, figsize=(20,3))\n",
    "    sns.histplot(ax = axes[0], data = df, x=num_col, hue=cat_col, kde=True)\n",
    "    sns.boxenplot(ax = axes[1], data=df, y=num_col, x=cat_col);\n",
    "    sns.pointplot(ax = axes[2], data=df, y=num_col, x=cat_col);\n",
    "    plt.show()"
   ]
  },
  {
   "cell_type": "code",
   "execution_count": 29,
   "metadata": {},
   "outputs": [
    {
     "data": {
      "image/png": "[encoded data removed]",
      "text/plain": [
       "<Figure size 1440x216 with 3 Axes>"
      ]
     },
     "metadata": {},
     "output_type": "display_data"
    },
    {
     "data": {
      "image/png": "[encoded data removed]",
      "text/plain": [
       "<Figure size 1440x216 with 3 Axes>"
      ]
     },
     "metadata": {},
     "output_type": "display_data"
    },
    {
     "data": {
      "image/png": "[encoded data removed]",
      "text/plain": [
       "<Figure size 1440x216 with 3 Axes>"
      ]
     },
     "metadata": {},
     "output_type": "display_data"
    }
   ],
   "source": [
    "num_col = ['Age','Income','Depenses']\n",
    "\n",
    "for element in num_col:\n",
    "    cat_num_plot(df,element)"
   ]
  },
  {
   "cell_type": "markdown",
   "metadata": {},
   "source": [
    "### **Relation entre la Reponse et nos variables qualitatives**"
   ]
  },
  {
   "cell_type": "markdown",
   "metadata": {},
   "source": [
    "---"
   ]
  },
  {
   "cell_type": "markdown",
   "metadata": {},
   "source": [
    "## **Section 2 - Tests statistiques**\n"
   ]
  },
  {
   "cell_type": "code",
   "execution_count": 30,
   "metadata": {},
   "outputs": [
    {
     "data": {
      "text/plain": [
       "['Age', 'Income', 'Depenses']"
      ]
     },
     "execution_count": 30,
     "metadata": {},
     "output_type": "execute_result"
    }
   ],
   "source": [
    "num_col"
   ]
  },
  {
   "cell_type": "code",
   "execution_count": 31,
   "metadata": {},
   "outputs": [
    {
     "name": "stdout",
     "output_type": "stream",
     "text": [
      "Age : W=0.984, p=0.000\n",
      "L'échantillon ne suit pas une loi normale (On rejette l'hypothèse (H0)\n",
      "Income : W=0.975, p=0.000\n",
      "L'échantillon ne suit pas une loi normale (On rejette l'hypothèse (H0)\n",
      "Depenses : W=0.865, p=0.000\n",
      "L'échantillon ne suit pas une loi normale (On rejette l'hypothèse (H0)\n"
     ]
    }
   ],
   "source": [
    "X=num_col\n",
    "\n",
    "column_dict= {elem : pd.DataFrame() for elem in X}\n",
    "\n",
    "def shapiro_test(data):\n",
    "    stat, p = stats.shapiro(data)\n",
    "    print('%s : W=%.3f, p=%.3f' % (column,stat, p))\n",
    "    alpha = 0.05\n",
    "    if p > alpha:\n",
    "        print(\"L'échantillon suit une loi normale (On ne rejette pas (H0)\")\n",
    "    else:\n",
    "        print(\"L'échantillon ne suit pas une loi normale (On rejette l'hypothèse (H0)\")\n",
    "\n",
    "for column in X:\n",
    "    column_dict[column] = df[column]\n",
    "    shapiro_test(column_dict[column])"
   ]
  },
  {
   "cell_type": "markdown",
   "metadata": {},
   "source": [
    "#### **Numerical variables : Mann-Whitney's test**"
   ]
  },
  {
   "cell_type": "markdown",
   "metadata": {},
   "source": [
    "Our first question was to find if the average income of PhD owners is statistically different from the average income of Master owners.\n",
    "\n",
    "Notre première question est de savoir si le salaire moyen différe du niveau d'éducation\n",
    "\n",
    "1. Hypothèses\n",
    "* H_0 : Le salaire moyen ne différe pas\n",
    "* H_1 : Le salaire moyen différe\n",
    "\n",
    "2. Analysis plan formulation\n",
    "\n",
    "Significance level : We will test our hypothesis at a 5% significance level\n",
    "\n",
    "Test method : We use the Mann-Whitney's test to determine whether one group has higher or lower income than the other group. \n",
    "Mann-Whitney U test is a nonparametric statistical significance test for determining whether two independent samples were drawn from a population with the same distribution. The default assumption or null hypothesis is that there is no difference between the distributions of the data samples. Rejection of this hypothesis suggests that there is likely some difference between the samples. More specifically, the test determines whether it is equally likely that any randomly selected observation from one sample will be greater or less than a sample in the other distribution. If violated, it suggests differing distributions. \n",
    "Therefore, if our assumption is correct, the result of the test should enable us to reject the null hypothesis."
   ]
  },
  {
   "cell_type": "code",
   "execution_count": 32,
   "metadata": {},
   "outputs": [],
   "source": [
    "# Définissons notre fonction\n",
    "# Nous allons utiliser le test Mann-Whitney\n",
    "\n",
    "from itertools import combinations\n",
    "\n",
    "def rank_test(num_col, cat_col, df=df):\n",
    "    # 1ere etape : Les valeurs uniques \n",
    "    valeurs_uniques = df[cat_col].unique()\n",
    "    output = pd.DataFrame(columns=['Score','p_value','p','p_ajusté','résultat'])\n",
    "\n",
    "    # Si le nombre de valeurs uniques est supérieurs à 2, \n",
    "    # cela signifie que nous avons plusieurs groupes.\n",
    "    # Nous allons calculer toutes les combinaisons possibles.\n",
    "    if len(valeurs_uniques)>2:\n",
    "        comb = list(combinations(valeurs_uniques,2))\n",
    "        # Calcul de la p_valeur ajustée\n",
    "        alpha = 0.05/len(comb)\n",
    "        for element in comb:\n",
    "            v, v1 = element\n",
    "            g1 = df[df[cat_col]==v][num_col] #1er groupe\n",
    "            g2 = df[df[cat_col]==v1][num_col] #2eme groupe\n",
    "            stat, p = stats.mannwhitneyu(g1,g2)\n",
    "            if round(p,3)<alpha:\n",
    "                output.loc[f'{v} vs {v1}'] = [stat,round(p,4),0.05,alpha,'Test significatif']\n",
    "            else:\n",
    "                output.loc[f'{v} vs {v1}'] = [stat,round(p,4),0.05,alpha,'Test non significatif']\n",
    "    else:\n",
    "        groups = []\n",
    "        alpha = 0.05\n",
    "        for element in valeurs_uniques:\n",
    "            groups.append(df[df[cat_col]==element][num_col])\n",
    "        stat, p = stats.mannwhitneyu(groups[0], groups[1])\n",
    "        if p<alpha:\n",
    "            output.loc[f'{valeurs_uniques[0]} vs {valeurs_uniques[1]}'] = [stat,round(p,4),alpha,'-','Test significatif']\n",
    "        else:\n",
    "            output.loc[f'{valeurs_uniques[0]} vs {valeurs_uniques[1]}'] = [stat,round(p,4),alpha,'-','Test non significatif']       \n",
    "\n",
    "    return output\n",
    "    "
   ]
  },
  {
   "cell_type": "code",
   "execution_count": 33,
   "metadata": {},
   "outputs": [
    {
     "data": {
      "text/html": [
       "<div>\n",
       "<style scoped>\n",
       "    .dataframe tbody tr th:only-of-type {\n",
       "        vertical-align: middle;\n",
       "    }\n",
       "\n",
       "    .dataframe tbody tr th {\n",
       "        vertical-align: top;\n",
       "    }\n",
       "\n",
       "    .dataframe thead th {\n",
       "        text-align: right;\n",
       "    }\n",
       "</style>\n",
       "<table border=\"1\" class=\"dataframe\">\n",
       "  <thead>\n",
       "    <tr style=\"text-align: right;\">\n",
       "      <th></th>\n",
       "      <th>Score</th>\n",
       "      <th>p_value</th>\n",
       "      <th>p</th>\n",
       "      <th>p_ajusté</th>\n",
       "      <th>résultat</th>\n",
       "    </tr>\n",
       "  </thead>\n",
       "  <tbody>\n",
       "    <tr>\n",
       "      <th>Graduation vs PhD</th>\n",
       "      <td>242575.00000</td>\n",
       "      <td>0.00300</td>\n",
       "      <td>0.05000</td>\n",
       "      <td>0.00500</td>\n",
       "      <td>Test significatif</td>\n",
       "    </tr>\n",
       "    <tr>\n",
       "      <th>Graduation vs Master</th>\n",
       "      <td>200028.50000</td>\n",
       "      <td>0.62560</td>\n",
       "      <td>0.05000</td>\n",
       "      <td>0.00500</td>\n",
       "      <td>Test non significatif</td>\n",
       "    </tr>\n",
       "    <tr>\n",
       "      <th>Graduation vs Basic</th>\n",
       "      <td>55864.00000</td>\n",
       "      <td>0.00000</td>\n",
       "      <td>0.05000</td>\n",
       "      <td>0.00500</td>\n",
       "      <td>Test significatif</td>\n",
       "    </tr>\n",
       "    <tr>\n",
       "      <th>Graduation vs 2n Cycle</th>\n",
       "      <td>123355.50000</td>\n",
       "      <td>0.00830</td>\n",
       "      <td>0.05000</td>\n",
       "      <td>0.00500</td>\n",
       "      <td>Test non significatif</td>\n",
       "    </tr>\n",
       "    <tr>\n",
       "      <th>PhD vs Master</th>\n",
       "      <td>95125.50000</td>\n",
       "      <td>0.03230</td>\n",
       "      <td>0.05000</td>\n",
       "      <td>0.00500</td>\n",
       "      <td>Test non significatif</td>\n",
       "    </tr>\n",
       "    <tr>\n",
       "      <th>PhD vs Basic</th>\n",
       "      <td>25259.00000</td>\n",
       "      <td>0.00000</td>\n",
       "      <td>0.05000</td>\n",
       "      <td>0.00500</td>\n",
       "      <td>Test significatif</td>\n",
       "    </tr>\n",
       "    <tr>\n",
       "      <th>PhD vs 2n Cycle</th>\n",
       "      <td>57800.50000</td>\n",
       "      <td>0.00000</td>\n",
       "      <td>0.05000</td>\n",
       "      <td>0.00500</td>\n",
       "      <td>Test significatif</td>\n",
       "    </tr>\n",
       "    <tr>\n",
       "      <th>Master vs Basic</th>\n",
       "      <td>18786.00000</td>\n",
       "      <td>0.00000</td>\n",
       "      <td>0.05000</td>\n",
       "      <td>0.00500</td>\n",
       "      <td>Test significatif</td>\n",
       "    </tr>\n",
       "    <tr>\n",
       "      <th>Master vs 2n Cycle</th>\n",
       "      <td>41207.50000</td>\n",
       "      <td>0.00590</td>\n",
       "      <td>0.05000</td>\n",
       "      <td>0.00500</td>\n",
       "      <td>Test non significatif</td>\n",
       "    </tr>\n",
       "    <tr>\n",
       "      <th>Basic vs 2n Cycle</th>\n",
       "      <td>1366.00000</td>\n",
       "      <td>0.00000</td>\n",
       "      <td>0.05000</td>\n",
       "      <td>0.00500</td>\n",
       "      <td>Test significatif</td>\n",
       "    </tr>\n",
       "  </tbody>\n",
       "</table>\n",
       "</div>"
      ],
      "text/plain": [
       "                              Score  p_value       p  p_ajusté  \\\n",
       "Graduation vs PhD      242575.00000  0.00300 0.05000   0.00500   \n",
       "Graduation vs Master   200028.50000  0.62560 0.05000   0.00500   \n",
       "Graduation vs Basic     55864.00000  0.00000 0.05000   0.00500   \n",
       "Graduation vs 2n Cycle 123355.50000  0.00830 0.05000   0.00500   \n",
       "PhD vs Master           95125.50000  0.03230 0.05000   0.00500   \n",
       "PhD vs Basic            25259.00000  0.00000 0.05000   0.00500   \n",
       "PhD vs 2n Cycle         57800.50000  0.00000 0.05000   0.00500   \n",
       "Master vs Basic         18786.00000  0.00000 0.05000   0.00500   \n",
       "Master vs 2n Cycle      41207.50000  0.00590 0.05000   0.00500   \n",
       "Basic vs 2n Cycle        1366.00000  0.00000 0.05000   0.00500   \n",
       "\n",
       "                                     résultat  \n",
       "Graduation vs PhD           Test significatif  \n",
       "Graduation vs Master    Test non significatif  \n",
       "Graduation vs Basic         Test significatif  \n",
       "Graduation vs 2n Cycle  Test non significatif  \n",
       "PhD vs Master           Test non significatif  \n",
       "PhD vs Basic                Test significatif  \n",
       "PhD vs 2n Cycle             Test significatif  \n",
       "Master vs Basic             Test significatif  \n",
       "Master vs 2n Cycle      Test non significatif  \n",
       "Basic vs 2n Cycle           Test significatif  "
      ]
     },
     "execution_count": 33,
     "metadata": {},
     "output_type": "execute_result"
    }
   ],
   "source": [
    "rank_test('Income','Education')"
   ]
  },
  {
   "cell_type": "code",
   "execution_count": 34,
   "metadata": {},
   "outputs": [
    {
     "data": {
      "text/html": [
       "<div>\n",
       "<style scoped>\n",
       "    .dataframe tbody tr th:only-of-type {\n",
       "        vertical-align: middle;\n",
       "    }\n",
       "\n",
       "    .dataframe tbody tr th {\n",
       "        vertical-align: top;\n",
       "    }\n",
       "\n",
       "    .dataframe thead th {\n",
       "        text-align: right;\n",
       "    }\n",
       "</style>\n",
       "<table border=\"1\" class=\"dataframe\">\n",
       "  <thead>\n",
       "    <tr style=\"text-align: right;\">\n",
       "      <th></th>\n",
       "      <th>Score</th>\n",
       "      <th>p_value</th>\n",
       "      <th>p</th>\n",
       "      <th>p_ajusté</th>\n",
       "      <th>résultat</th>\n",
       "    </tr>\n",
       "  </thead>\n",
       "  <tbody>\n",
       "    <tr>\n",
       "      <th>Single vs Together</th>\n",
       "      <td>132721.50000</td>\n",
       "      <td>0.47810</td>\n",
       "      <td>0.05000</td>\n",
       "      <td>0.00500</td>\n",
       "      <td>Test non significatif</td>\n",
       "    </tr>\n",
       "    <tr>\n",
       "      <th>Single vs Married</th>\n",
       "      <td>200187.50000</td>\n",
       "      <td>0.53280</td>\n",
       "      <td>0.05000</td>\n",
       "      <td>0.00500</td>\n",
       "      <td>Test non significatif</td>\n",
       "    </tr>\n",
       "    <tr>\n",
       "      <th>Single vs Divorced</th>\n",
       "      <td>52025.50000</td>\n",
       "      <td>0.22930</td>\n",
       "      <td>0.05000</td>\n",
       "      <td>0.00500</td>\n",
       "      <td>Test non significatif</td>\n",
       "    </tr>\n",
       "    <tr>\n",
       "      <th>Single vs Widow</th>\n",
       "      <td>15175.00000</td>\n",
       "      <td>0.02260</td>\n",
       "      <td>0.05000</td>\n",
       "      <td>0.00500</td>\n",
       "      <td>Test non significatif</td>\n",
       "    </tr>\n",
       "    <tr>\n",
       "      <th>Together vs Married</th>\n",
       "      <td>245695.00000</td>\n",
       "      <td>0.89360</td>\n",
       "      <td>0.05000</td>\n",
       "      <td>0.00500</td>\n",
       "      <td>Test non significatif</td>\n",
       "    </tr>\n",
       "    <tr>\n",
       "      <th>Together vs Divorced</th>\n",
       "      <td>63892.50000</td>\n",
       "      <td>0.48860</td>\n",
       "      <td>0.05000</td>\n",
       "      <td>0.00500</td>\n",
       "      <td>Test non significatif</td>\n",
       "    </tr>\n",
       "    <tr>\n",
       "      <th>Together vs Widow</th>\n",
       "      <td>18600.00000</td>\n",
       "      <td>0.04300</td>\n",
       "      <td>0.05000</td>\n",
       "      <td>0.00500</td>\n",
       "      <td>Test non significatif</td>\n",
       "    </tr>\n",
       "    <tr>\n",
       "      <th>Married vs Divorced</th>\n",
       "      <td>95547.50000</td>\n",
       "      <td>0.41760</td>\n",
       "      <td>0.05000</td>\n",
       "      <td>0.00500</td>\n",
       "      <td>Test non significatif</td>\n",
       "    </tr>\n",
       "    <tr>\n",
       "      <th>Married vs Widow</th>\n",
       "      <td>27950.00000</td>\n",
       "      <td>0.04040</td>\n",
       "      <td>0.05000</td>\n",
       "      <td>0.00500</td>\n",
       "      <td>Test non significatif</td>\n",
       "    </tr>\n",
       "    <tr>\n",
       "      <th>Divorced vs Widow</th>\n",
       "      <td>7852.00000</td>\n",
       "      <td>0.16800</td>\n",
       "      <td>0.05000</td>\n",
       "      <td>0.00500</td>\n",
       "      <td>Test non significatif</td>\n",
       "    </tr>\n",
       "  </tbody>\n",
       "</table>\n",
       "</div>"
      ],
      "text/plain": [
       "                            Score  p_value       p  p_ajusté  \\\n",
       "Single vs Together   132721.50000  0.47810 0.05000   0.00500   \n",
       "Single vs Married    200187.50000  0.53280 0.05000   0.00500   \n",
       "Single vs Divorced    52025.50000  0.22930 0.05000   0.00500   \n",
       "Single vs Widow       15175.00000  0.02260 0.05000   0.00500   \n",
       "Together vs Married  245695.00000  0.89360 0.05000   0.00500   \n",
       "Together vs Divorced  63892.50000  0.48860 0.05000   0.00500   \n",
       "Together vs Widow     18600.00000  0.04300 0.05000   0.00500   \n",
       "Married vs Divorced   95547.50000  0.41760 0.05000   0.00500   \n",
       "Married vs Widow      27950.00000  0.04040 0.05000   0.00500   \n",
       "Divorced vs Widow      7852.00000  0.16800 0.05000   0.00500   \n",
       "\n",
       "                                   résultat  \n",
       "Single vs Together    Test non significatif  \n",
       "Single vs Married     Test non significatif  \n",
       "Single vs Divorced    Test non significatif  \n",
       "Single vs Widow       Test non significatif  \n",
       "Together vs Married   Test non significatif  \n",
       "Together vs Divorced  Test non significatif  \n",
       "Together vs Widow     Test non significatif  \n",
       "Married vs Divorced   Test non significatif  \n",
       "Married vs Widow      Test non significatif  \n",
       "Divorced vs Widow     Test non significatif  "
      ]
     },
     "execution_count": 34,
     "metadata": {},
     "output_type": "execute_result"
    }
   ],
   "source": [
    "rank_test('Income','Marital_Status')"
   ]
  },
  {
   "cell_type": "code",
   "execution_count": 35,
   "metadata": {},
   "outputs": [
    {
     "data": {
      "text/html": [
       "<div>\n",
       "<style scoped>\n",
       "    .dataframe tbody tr th:only-of-type {\n",
       "        vertical-align: middle;\n",
       "    }\n",
       "\n",
       "    .dataframe tbody tr th {\n",
       "        vertical-align: top;\n",
       "    }\n",
       "\n",
       "    .dataframe thead th {\n",
       "        text-align: right;\n",
       "    }\n",
       "</style>\n",
       "<table border=\"1\" class=\"dataframe\">\n",
       "  <thead>\n",
       "    <tr style=\"text-align: right;\">\n",
       "      <th></th>\n",
       "      <th>Score</th>\n",
       "      <th>p_value</th>\n",
       "      <th>p</th>\n",
       "      <th>p_ajusté</th>\n",
       "      <th>résultat</th>\n",
       "    </tr>\n",
       "  </thead>\n",
       "  <tbody>\n",
       "    <tr>\n",
       "      <th>non vs oui</th>\n",
       "      <td>216112.00000</td>\n",
       "      <td>0.00000</td>\n",
       "      <td>0.05000</td>\n",
       "      <td>-</td>\n",
       "      <td>Test significatif</td>\n",
       "    </tr>\n",
       "  </tbody>\n",
       "</table>\n",
       "</div>"
      ],
      "text/plain": [
       "                  Score  p_value       p p_ajusté           résultat\n",
       "non vs oui 216112.00000  0.00000 0.05000        -  Test significatif"
      ]
     },
     "execution_count": 35,
     "metadata": {},
     "output_type": "execute_result"
    }
   ],
   "source": [
    "rank_test('Income','Reponse')"
   ]
  },
  {
   "cell_type": "code",
   "execution_count": 36,
   "metadata": {},
   "outputs": [
    {
     "data": {
      "text/html": [
       "<div>\n",
       "<style scoped>\n",
       "    .dataframe tbody tr th:only-of-type {\n",
       "        vertical-align: middle;\n",
       "    }\n",
       "\n",
       "    .dataframe tbody tr th {\n",
       "        vertical-align: top;\n",
       "    }\n",
       "\n",
       "    .dataframe thead th {\n",
       "        text-align: right;\n",
       "    }\n",
       "</style>\n",
       "<table border=\"1\" class=\"dataframe\">\n",
       "  <thead>\n",
       "    <tr style=\"text-align: right;\">\n",
       "      <th></th>\n",
       "      <th>Score</th>\n",
       "      <th>p_value</th>\n",
       "      <th>p</th>\n",
       "      <th>p_ajusté</th>\n",
       "      <th>résultat</th>\n",
       "    </tr>\n",
       "  </thead>\n",
       "  <tbody>\n",
       "    <tr>\n",
       "      <th>non vs oui</th>\n",
       "      <td>192238.00000</td>\n",
       "      <td>0.00000</td>\n",
       "      <td>0.05000</td>\n",
       "      <td>-</td>\n",
       "      <td>Test significatif</td>\n",
       "    </tr>\n",
       "  </tbody>\n",
       "</table>\n",
       "</div>"
      ],
      "text/plain": [
       "                  Score  p_value       p p_ajusté           résultat\n",
       "non vs oui 192238.00000  0.00000 0.05000        -  Test significatif"
      ]
     },
     "execution_count": 36,
     "metadata": {},
     "output_type": "execute_result"
    }
   ],
   "source": [
    "rank_test('Depenses','Reponse')"
   ]
  },
  {
   "cell_type": "code",
   "execution_count": 37,
   "metadata": {},
   "outputs": [
    {
     "data": {
      "text/html": [
       "<div>\n",
       "<style scoped>\n",
       "    .dataframe tbody tr th:only-of-type {\n",
       "        vertical-align: middle;\n",
       "    }\n",
       "\n",
       "    .dataframe tbody tr th {\n",
       "        vertical-align: top;\n",
       "    }\n",
       "\n",
       "    .dataframe thead th {\n",
       "        text-align: right;\n",
       "    }\n",
       "</style>\n",
       "<table border=\"1\" class=\"dataframe\">\n",
       "  <thead>\n",
       "    <tr style=\"text-align: right;\">\n",
       "      <th></th>\n",
       "      <th>Score</th>\n",
       "      <th>p_value</th>\n",
       "      <th>p</th>\n",
       "      <th>p_ajusté</th>\n",
       "      <th>résultat</th>\n",
       "    </tr>\n",
       "  </thead>\n",
       "  <tbody>\n",
       "    <tr>\n",
       "      <th>Single vs Together</th>\n",
       "      <td>136226.00000</td>\n",
       "      <td>0.99310</td>\n",
       "      <td>0.05000</td>\n",
       "      <td>0.00500</td>\n",
       "      <td>Test non significatif</td>\n",
       "    </tr>\n",
       "    <tr>\n",
       "      <th>Single vs Married</th>\n",
       "      <td>205532.00000</td>\n",
       "      <td>0.86610</td>\n",
       "      <td>0.05000</td>\n",
       "      <td>0.00500</td>\n",
       "      <td>Test non significatif</td>\n",
       "    </tr>\n",
       "    <tr>\n",
       "      <th>Single vs Divorced</th>\n",
       "      <td>55059.50000</td>\n",
       "      <td>0.98950</td>\n",
       "      <td>0.05000</td>\n",
       "      <td>0.00500</td>\n",
       "      <td>Test non significatif</td>\n",
       "    </tr>\n",
       "    <tr>\n",
       "      <th>Single vs Widow</th>\n",
       "      <td>15485.50000</td>\n",
       "      <td>0.04130</td>\n",
       "      <td>0.05000</td>\n",
       "      <td>0.00500</td>\n",
       "      <td>Test non significatif</td>\n",
       "    </tr>\n",
       "    <tr>\n",
       "      <th>Together vs Married</th>\n",
       "      <td>246265.00000</td>\n",
       "      <td>0.83490</td>\n",
       "      <td>0.05000</td>\n",
       "      <td>0.00500</td>\n",
       "      <td>Test non significatif</td>\n",
       "    </tr>\n",
       "    <tr>\n",
       "      <th>Together vs Divorced</th>\n",
       "      <td>65709.00000</td>\n",
       "      <td>0.93530</td>\n",
       "      <td>0.05000</td>\n",
       "      <td>0.00500</td>\n",
       "      <td>Test non significatif</td>\n",
       "    </tr>\n",
       "    <tr>\n",
       "      <th>Together vs Widow</th>\n",
       "      <td>18419.50000</td>\n",
       "      <td>0.03220</td>\n",
       "      <td>0.05000</td>\n",
       "      <td>0.00500</td>\n",
       "      <td>Test non significatif</td>\n",
       "    </tr>\n",
       "    <tr>\n",
       "      <th>Married vs Divorced</th>\n",
       "      <td>98148.00000</td>\n",
       "      <td>0.84380</td>\n",
       "      <td>0.05000</td>\n",
       "      <td>0.00500</td>\n",
       "      <td>Test non significatif</td>\n",
       "    </tr>\n",
       "    <tr>\n",
       "      <th>Married vs Widow</th>\n",
       "      <td>27341.50000</td>\n",
       "      <td>0.02030</td>\n",
       "      <td>0.05000</td>\n",
       "      <td>0.00500</td>\n",
       "      <td>Test non significatif</td>\n",
       "    </tr>\n",
       "    <tr>\n",
       "      <th>Divorced vs Widow</th>\n",
       "      <td>7552.50000</td>\n",
       "      <td>0.06800</td>\n",
       "      <td>0.05000</td>\n",
       "      <td>0.00500</td>\n",
       "      <td>Test non significatif</td>\n",
       "    </tr>\n",
       "  </tbody>\n",
       "</table>\n",
       "</div>"
      ],
      "text/plain": [
       "                            Score  p_value       p  p_ajusté  \\\n",
       "Single vs Together   136226.00000  0.99310 0.05000   0.00500   \n",
       "Single vs Married    205532.00000  0.86610 0.05000   0.00500   \n",
       "Single vs Divorced    55059.50000  0.98950 0.05000   0.00500   \n",
       "Single vs Widow       15485.50000  0.04130 0.05000   0.00500   \n",
       "Together vs Married  246265.00000  0.83490 0.05000   0.00500   \n",
       "Together vs Divorced  65709.00000  0.93530 0.05000   0.00500   \n",
       "Together vs Widow     18419.50000  0.03220 0.05000   0.00500   \n",
       "Married vs Divorced   98148.00000  0.84380 0.05000   0.00500   \n",
       "Married vs Widow      27341.50000  0.02030 0.05000   0.00500   \n",
       "Divorced vs Widow      7552.50000  0.06800 0.05000   0.00500   \n",
       "\n",
       "                                   résultat  \n",
       "Single vs Together    Test non significatif  \n",
       "Single vs Married     Test non significatif  \n",
       "Single vs Divorced    Test non significatif  \n",
       "Single vs Widow       Test non significatif  \n",
       "Together vs Married   Test non significatif  \n",
       "Together vs Divorced  Test non significatif  \n",
       "Together vs Widow     Test non significatif  \n",
       "Married vs Divorced   Test non significatif  \n",
       "Married vs Widow      Test non significatif  \n",
       "Divorced vs Widow     Test non significatif  "
      ]
     },
     "execution_count": 37,
     "metadata": {},
     "output_type": "execute_result"
    }
   ],
   "source": [
    "rank_test('Depenses','Marital_Status')"
   ]
  },
  {
   "cell_type": "code",
   "execution_count": 38,
   "metadata": {},
   "outputs": [
    {
     "data": {
      "text/html": [
       "<div>\n",
       "<style scoped>\n",
       "    .dataframe tbody tr th:only-of-type {\n",
       "        vertical-align: middle;\n",
       "    }\n",
       "\n",
       "    .dataframe tbody tr th {\n",
       "        vertical-align: top;\n",
       "    }\n",
       "\n",
       "    .dataframe thead th {\n",
       "        text-align: right;\n",
       "    }\n",
       "</style>\n",
       "<table border=\"1\" class=\"dataframe\">\n",
       "  <thead>\n",
       "    <tr style=\"text-align: right;\">\n",
       "      <th></th>\n",
       "      <th>Score</th>\n",
       "      <th>p_value</th>\n",
       "      <th>p</th>\n",
       "      <th>p_ajusté</th>\n",
       "      <th>résultat</th>\n",
       "    </tr>\n",
       "  </thead>\n",
       "  <tbody>\n",
       "    <tr>\n",
       "      <th>non vs oui</th>\n",
       "      <td>472464.50000</td>\n",
       "      <td>0.00000</td>\n",
       "      <td>0.05000</td>\n",
       "      <td>-</td>\n",
       "      <td>Test significatif</td>\n",
       "    </tr>\n",
       "  </tbody>\n",
       "</table>\n",
       "</div>"
      ],
      "text/plain": [
       "                  Score  p_value       p p_ajusté           résultat\n",
       "non vs oui 472464.50000  0.00000 0.05000        -  Test significatif"
      ]
     },
     "execution_count": 38,
     "metadata": {},
     "output_type": "execute_result"
    }
   ],
   "source": [
    "rank_test('NumWebVisitsMonth','Reponse')"
   ]
  },
  {
   "cell_type": "markdown",
   "metadata": {},
   "source": [
    "#### **Chi Square**"
   ]
  },
  {
   "cell_type": "code",
   "execution_count": 39,
   "metadata": {},
   "outputs": [],
   "source": [
    "def chi_square(var1, var2='Reponse', df=df):\n",
    "    table = pd.crosstab(df[var1], df[var2])\n",
    "    output = stats.chi2_contingency(table)\n",
    "    stat, p = output[0], output[1]\n",
    "    return stat, round(p,3)"
   ]
  },
  {
   "cell_type": "code",
   "execution_count": 40,
   "metadata": {},
   "outputs": [
    {
     "data": {
      "text/plain": [
       "(15.576875363520237, 0.004)"
      ]
     },
     "execution_count": 40,
     "metadata": {},
     "output_type": "execute_result"
    }
   ],
   "source": [
    "chi_square('Enfant','Marital_Status')"
   ]
  },
  {
   "cell_type": "code",
   "execution_count": 41,
   "metadata": {},
   "outputs": [
    {
     "data": {
      "text/plain": [
       "Index(['Education', 'Marital_Status', 'Enfant'], dtype='object')"
      ]
     },
     "execution_count": 41,
     "metadata": {},
     "output_type": "execute_result"
    }
   ],
   "source": [
    "v = df.select_dtypes('object').columns\n",
    "v.drop(\"Reponse\")"
   ]
  },
  {
   "cell_type": "code",
   "execution_count": 42,
   "metadata": {},
   "outputs": [
    {
     "name": "stdout",
     "output_type": "stream",
     "text": [
      "Education\n",
      "5.95702454038447 0.202\n",
      "Marital_Status\n",
      "0.7801766998245534 0.941\n",
      "Reponse\n",
      "2205.913381041597 0.0\n",
      "Enfant\n",
      "123.4216131064118 0.0\n"
     ]
    }
   ],
   "source": [
    "for element in v:\n",
    "    stat, p = chi_square(element)\n",
    "    print(element)\n",
    "    print(stat,p)"
   ]
  },
  {
   "cell_type": "markdown",
   "metadata": {},
   "source": [
    "#### **Spearman**"
   ]
  },
  {
   "cell_type": "code",
   "execution_count": 43,
   "metadata": {},
   "outputs": [],
   "source": [
    "def spearman(col1,col2,df=df):\n",
    "    stat, p = stats.spearmanr(df[col1],df[col2])\n",
    "    return stat, round(p,4)"
   ]
  },
  {
   "cell_type": "code",
   "execution_count": 44,
   "metadata": {},
   "outputs": [
    {
     "data": {
      "text/plain": [
       "(0.21702144250931768, 0.0)"
      ]
     },
     "execution_count": 44,
     "metadata": {},
     "output_type": "execute_result"
    }
   ],
   "source": [
    "spearman('Income','Age')"
   ]
  },
  {
   "cell_type": "markdown",
   "metadata": {},
   "source": [
    "___"
   ]
  },
  {
   "cell_type": "markdown",
   "metadata": {},
   "source": [
    "## **Section 3 - Préparation de nos données**\n"
   ]
  },
  {
   "cell_type": "markdown",
   "metadata": {},
   "source": [
    "### **Selection de nos colonnes**"
   ]
  },
  {
   "cell_type": "code",
   "execution_count": 45,
   "metadata": {},
   "outputs": [],
   "source": [
    "dataset = df.copy()"
   ]
  },
  {
   "cell_type": "code",
   "execution_count": 46,
   "metadata": {},
   "outputs": [],
   "source": [
    "dataset.drop(columns=['Education','Marital_Status'], inplace=True)"
   ]
  },
  {
   "cell_type": "code",
   "execution_count": 47,
   "metadata": {},
   "outputs": [],
   "source": [
    "dataset['Reponse'] = np.where(df['Reponse']=='oui',1,0)\n",
    "dataset['Enfant'] = np.where(df['Enfant']=='oui',1,0)"
   ]
  },
  {
   "cell_type": "code",
   "execution_count": 48,
   "metadata": {},
   "outputs": [],
   "source": [
    "dataset  = pd.get_dummies(dataset)"
   ]
  },
  {
   "cell_type": "code",
   "execution_count": 49,
   "metadata": {},
   "outputs": [
    {
     "name": "stdout",
     "output_type": "stream",
     "text": [
      "Income\n",
      "0.32421148702489455 0.0\n",
      "Recency\n",
      "-0.016019818127448755 0.4514\n",
      "NumDealsPurchases\n",
      "-0.12587216308886617 0.0\n",
      "NumWebPurchases\n",
      "0.2337966278702364 0.0\n",
      "NumCatalogPurchases\n",
      "0.34988471733533066 0.0\n",
      "NumStorePurchases\n",
      "0.19514384215648845 0.0\n",
      "NumWebVisitsMonth\n",
      "-0.12478289366680771 0.0\n",
      "Complain\n",
      "-0.025236486294918106 0.2354\n",
      "Reponse\n",
      "0.9999999999999999 0.0\n",
      "Age\n",
      "0.030567126098207283 0.1507\n",
      "Enfant\n",
      "-0.23744746134338454 0.0\n",
      "Depenses\n",
      "0.3659269507560391 0.0\n"
     ]
    }
   ],
   "source": [
    "for element in dataset.columns:\n",
    "    stat, p = spearman(element,'Reponse')\n",
    "    print(element)\n",
    "    print(stat,p)"
   ]
  },
  {
   "cell_type": "code",
   "execution_count": 50,
   "metadata": {},
   "outputs": [],
   "source": [
    "dataset = dataset.drop(columns=['Age','Complain','Recency'])"
   ]
  },
  {
   "cell_type": "markdown",
   "metadata": {},
   "source": [
    "### **Standardisation de nos colonnes**"
   ]
  },
  {
   "cell_type": "code",
   "execution_count": 51,
   "metadata": {},
   "outputs": [
    {
     "data": {
      "text/html": [
       "<div>\n",
       "<style scoped>\n",
       "    .dataframe tbody tr th:only-of-type {\n",
       "        vertical-align: middle;\n",
       "    }\n",
       "\n",
       "    .dataframe tbody tr th {\n",
       "        vertical-align: top;\n",
       "    }\n",
       "\n",
       "    .dataframe thead th {\n",
       "        text-align: right;\n",
       "    }\n",
       "</style>\n",
       "<table border=\"1\" class=\"dataframe\">\n",
       "  <thead>\n",
       "    <tr style=\"text-align: right;\">\n",
       "      <th></th>\n",
       "      <th>Income</th>\n",
       "      <th>NumDealsPurchases</th>\n",
       "      <th>NumWebPurchases</th>\n",
       "      <th>NumCatalogPurchases</th>\n",
       "      <th>NumStorePurchases</th>\n",
       "      <th>NumWebVisitsMonth</th>\n",
       "      <th>Reponse</th>\n",
       "      <th>Enfant</th>\n",
       "      <th>Depenses</th>\n",
       "    </tr>\n",
       "  </thead>\n",
       "  <tbody>\n",
       "    <tr>\n",
       "      <th>0</th>\n",
       "      <td>58138.00000</td>\n",
       "      <td>3</td>\n",
       "      <td>8</td>\n",
       "      <td>10</td>\n",
       "      <td>4</td>\n",
       "      <td>7</td>\n",
       "      <td>0</td>\n",
       "      <td>0</td>\n",
       "      <td>1617</td>\n",
       "    </tr>\n",
       "    <tr>\n",
       "      <th>1</th>\n",
       "      <td>46344.00000</td>\n",
       "      <td>2</td>\n",
       "      <td>1</td>\n",
       "      <td>1</td>\n",
       "      <td>2</td>\n",
       "      <td>5</td>\n",
       "      <td>0</td>\n",
       "      <td>0</td>\n",
       "      <td>27</td>\n",
       "    </tr>\n",
       "    <tr>\n",
       "      <th>2</th>\n",
       "      <td>71613.00000</td>\n",
       "      <td>1</td>\n",
       "      <td>8</td>\n",
       "      <td>2</td>\n",
       "      <td>10</td>\n",
       "      <td>4</td>\n",
       "      <td>0</td>\n",
       "      <td>0</td>\n",
       "      <td>776</td>\n",
       "    </tr>\n",
       "    <tr>\n",
       "      <th>3</th>\n",
       "      <td>26646.00000</td>\n",
       "      <td>2</td>\n",
       "      <td>2</td>\n",
       "      <td>0</td>\n",
       "      <td>4</td>\n",
       "      <td>6</td>\n",
       "      <td>0</td>\n",
       "      <td>0</td>\n",
       "      <td>53</td>\n",
       "    </tr>\n",
       "    <tr>\n",
       "      <th>4</th>\n",
       "      <td>58293.00000</td>\n",
       "      <td>5</td>\n",
       "      <td>5</td>\n",
       "      <td>3</td>\n",
       "      <td>6</td>\n",
       "      <td>5</td>\n",
       "      <td>0</td>\n",
       "      <td>0</td>\n",
       "      <td>422</td>\n",
       "    </tr>\n",
       "    <tr>\n",
       "      <th>...</th>\n",
       "      <td>...</td>\n",
       "      <td>...</td>\n",
       "      <td>...</td>\n",
       "      <td>...</td>\n",
       "      <td>...</td>\n",
       "      <td>...</td>\n",
       "      <td>...</td>\n",
       "      <td>...</td>\n",
       "      <td>...</td>\n",
       "    </tr>\n",
       "    <tr>\n",
       "      <th>2235</th>\n",
       "      <td>61223.00000</td>\n",
       "      <td>2</td>\n",
       "      <td>9</td>\n",
       "      <td>3</td>\n",
       "      <td>4</td>\n",
       "      <td>5</td>\n",
       "      <td>0</td>\n",
       "      <td>0</td>\n",
       "      <td>1341</td>\n",
       "    </tr>\n",
       "    <tr>\n",
       "      <th>2236</th>\n",
       "      <td>64014.00000</td>\n",
       "      <td>7</td>\n",
       "      <td>8</td>\n",
       "      <td>2</td>\n",
       "      <td>5</td>\n",
       "      <td>7</td>\n",
       "      <td>1</td>\n",
       "      <td>0</td>\n",
       "      <td>444</td>\n",
       "    </tr>\n",
       "    <tr>\n",
       "      <th>2237</th>\n",
       "      <td>56981.00000</td>\n",
       "      <td>1</td>\n",
       "      <td>2</td>\n",
       "      <td>3</td>\n",
       "      <td>13</td>\n",
       "      <td>6</td>\n",
       "      <td>1</td>\n",
       "      <td>0</td>\n",
       "      <td>1241</td>\n",
       "    </tr>\n",
       "    <tr>\n",
       "      <th>2238</th>\n",
       "      <td>69245.00000</td>\n",
       "      <td>2</td>\n",
       "      <td>6</td>\n",
       "      <td>5</td>\n",
       "      <td>10</td>\n",
       "      <td>3</td>\n",
       "      <td>0</td>\n",
       "      <td>0</td>\n",
       "      <td>843</td>\n",
       "    </tr>\n",
       "    <tr>\n",
       "      <th>2239</th>\n",
       "      <td>52869.00000</td>\n",
       "      <td>3</td>\n",
       "      <td>3</td>\n",
       "      <td>1</td>\n",
       "      <td>4</td>\n",
       "      <td>7</td>\n",
       "      <td>0</td>\n",
       "      <td>0</td>\n",
       "      <td>172</td>\n",
       "    </tr>\n",
       "  </tbody>\n",
       "</table>\n",
       "<p>2212 rows × 9 columns</p>\n",
       "</div>"
      ],
      "text/plain": [
       "          Income  NumDealsPurchases  NumWebPurchases  NumCatalogPurchases  \\\n",
       "0    58138.00000                  3                8                   10   \n",
       "1    46344.00000                  2                1                    1   \n",
       "2    71613.00000                  1                8                    2   \n",
       "3    26646.00000                  2                2                    0   \n",
       "4    58293.00000                  5                5                    3   \n",
       "...          ...                ...              ...                  ...   \n",
       "2235 61223.00000                  2                9                    3   \n",
       "2236 64014.00000                  7                8                    2   \n",
       "2237 56981.00000                  1                2                    3   \n",
       "2238 69245.00000                  2                6                    5   \n",
       "2239 52869.00000                  3                3                    1   \n",
       "\n",
       "      NumStorePurchases  NumWebVisitsMonth  Reponse  Enfant  Depenses  \n",
       "0                     4                  7        0       0      1617  \n",
       "1                     2                  5        0       0        27  \n",
       "2                    10                  4        0       0       776  \n",
       "3                     4                  6        0       0        53  \n",
       "4                     6                  5        0       0       422  \n",
       "...                 ...                ...      ...     ...       ...  \n",
       "2235                  4                  5        0       0      1341  \n",
       "2236                  5                  7        1       0       444  \n",
       "2237                 13                  6        1       0      1241  \n",
       "2238                 10                  3        0       0       843  \n",
       "2239                  4                  7        0       0       172  \n",
       "\n",
       "[2212 rows x 9 columns]"
      ]
     },
     "execution_count": 51,
     "metadata": {},
     "output_type": "execute_result"
    }
   ],
   "source": [
    "dataset"
   ]
  },
  {
   "cell_type": "code",
   "execution_count": 52,
   "metadata": {},
   "outputs": [],
   "source": [
    "from sklearn.preprocessing import StandardScaler\n",
    "\n",
    "scaler = StandardScaler()\n",
    "\n",
    "X = dataset.drop(columns=['Reponse'])\n",
    "y = dataset['Reponse']\n",
    "\n",
    "X = scaler.fit_transform(X)"
   ]
  },
  {
   "cell_type": "code",
   "execution_count": 93,
   "metadata": {},
   "outputs": [],
   "source": [
    "X_train, X_test, y_train, y_test = train_test_split(X, y, test_size=0.25, random_state=42)"
   ]
  },
  {
   "cell_type": "markdown",
   "metadata": {},
   "source": [
    "---"
   ]
  },
  {
   "cell_type": "markdown",
   "metadata": {},
   "source": [
    "## **Section 4 - Modèle Machine Learning**\n"
   ]
  },
  {
   "cell_type": "code",
   "execution_count": 94,
   "metadata": {},
   "outputs": [
    {
     "name": "stdout",
     "output_type": "stream",
     "text": [
      "-----\n",
      "Best parameters {'n_estimators': 200, 'max_features': 'log2', 'max_depth': 6, 'criterion': 'gini'}\n",
      "Mean cross-validated accuracy score of the best_estimator: 0.837\n",
      "-----\n"
     ]
    }
   ],
   "source": [
    "from sklearn.model_selection import cross_val_score\n",
    "\n",
    "param_grid = { \n",
    "    'n_estimators': [200, 500],\n",
    "    'max_features': ['auto', 'sqrt', 'log2'],\n",
    "    'max_depth' : [4,5,6,7,8],\n",
    "    'criterion' :['gini', 'entropy']\n",
    "}\n",
    "\n",
    "model_random_forest = RandomForestClassifier(random_state=42)\n",
    "\n",
    "model_random_forest = RandomizedSearchCV(\n",
    "    model_random_forest, \n",
    "    param_grid, \n",
    "    n_iter=5,\n",
    "    scoring='accuracy',\n",
    ")\n",
    "\n",
    "model_random_forest.fit(X_train, y_train)\n",
    "\n",
    "print('-----')\n",
    "print(f'Best parameters {model_random_forest.best_params_}')\n",
    "print(\n",
    "    f'Mean cross-validated accuracy score of the best_estimator: '+ \\\n",
    "    f'{model_random_forest.best_score_:.3f}'\n",
    ")\n",
    "print('-----')"
   ]
  },
  {
   "cell_type": "code",
   "execution_count": 95,
   "metadata": {},
   "outputs": [
    {
     "data": {
      "text/plain": [
       "0.833634719710669"
      ]
     },
     "execution_count": 95,
     "metadata": {},
     "output_type": "execute_result"
    }
   ],
   "source": [
    "model_random_forest.score(X_test, y_test)"
   ]
  },
  {
   "cell_type": "code",
   "execution_count": 96,
   "metadata": {},
   "outputs": [
    {
     "data": {
      "text/plain": [
       "0.833634719710669"
      ]
     },
     "execution_count": 96,
     "metadata": {},
     "output_type": "execute_result"
    }
   ],
   "source": [
    "model_random_forest.score(X_test,y_test)"
   ]
  },
  {
   "cell_type": "code",
   "execution_count": 97,
   "metadata": {},
   "outputs": [
    {
     "name": "stdout",
     "output_type": "stream",
     "text": [
      "-----\n",
      "Best parameters {'penalty': 'l2', 'C': 10.0}\n",
      "Mean cross-validated accuracy score of the best_estimator: 0.822\n",
      "-----\n"
     ]
    }
   ],
   "source": [
    "from sklearn.model_selection import cross_val_score\n",
    "\n",
    "param_grid = {\"C\":np.logspace(-3,3,7), \"penalty\":[\"l1\",\"l2\"]}\n",
    "\n",
    "\n",
    "model_logistic_regression = LogisticRegression()\n",
    "\n",
    "model_logistic_regression = RandomizedSearchCV(\n",
    "    model_logistic_regression, \n",
    "    param_grid, \n",
    "    n_iter=5,\n",
    "    scoring='accuracy',\n",
    ")\n",
    "\n",
    "model_logistic_regression.fit(X_train, y_train)\n",
    "\n",
    "print('-----')\n",
    "print(f'Best parameters {model_logistic_regression.best_params_}')\n",
    "print(\n",
    "    f'Mean cross-validated accuracy score of the best_estimator: '+ \\\n",
    "    f'{model_logistic_regression.best_score_:.3f}'\n",
    ")\n",
    "print('-----')"
   ]
  },
  {
   "cell_type": "code",
   "execution_count": 98,
   "metadata": {},
   "outputs": [
    {
     "data": {
      "text/plain": [
       "0.8155515370705244"
      ]
     },
     "execution_count": 98,
     "metadata": {},
     "output_type": "execute_result"
    }
   ],
   "source": [
    "model_logistic_regression.score(X_test,y_test)"
   ]
  },
  {
   "cell_type": "code",
   "execution_count": 99,
   "metadata": {},
   "outputs": [
    {
     "data": {
      "image/png": "[encoded data removed]",
      "text/plain": [
       "<Figure size 432x288 with 2 Axes>"
      ]
     },
     "metadata": {},
     "output_type": "display_data"
    }
   ],
   "source": [
    "from sklearn.metrics import confusion_matrix\n",
    "\n",
    "y_pred = model_logistic_regression.predict(X_test)\n",
    "\n",
    "sns.heatmap(confusion_matrix(y_test,y_pred), annot =True, fmt='g')\n",
    "plt.title(\"Logistic Regression \\n Actual\", fontsize=14)\n",
    "plt.show()"
   ]
  },
  {
   "cell_type": "code",
   "execution_count": 100,
   "metadata": {},
   "outputs": [
    {
     "data": {
      "text/plain": [
       "array([[413,  17],\n",
       "       [ 85,  38]])"
      ]
     },
     "execution_count": 100,
     "metadata": {},
     "output_type": "execute_result"
    }
   ],
   "source": [
    "confusion_matrix(y_test,y_pred)"
   ]
  },
  {
   "cell_type": "code",
   "execution_count": 101,
   "metadata": {},
   "outputs": [
    {
     "name": "stdout",
     "output_type": "stream",
     "text": [
      "              precision    recall  f1-score   support\n",
      "\n",
      "           0       0.83      0.96      0.89       430\n",
      "           1       0.69      0.31      0.43       123\n",
      "\n",
      "    accuracy                           0.82       553\n",
      "   macro avg       0.76      0.63      0.66       553\n",
      "weighted avg       0.80      0.82      0.79       553\n",
      "\n"
     ]
    }
   ],
   "source": [
    "from sklearn.metrics import classification_report\n",
    "\n",
    "print(classification_report(y_test, y_pred))"
   ]
  },
  {
   "cell_type": "code",
   "execution_count": 102,
   "metadata": {},
   "outputs": [
    {
     "data": {
      "text/plain": [
       "0    1754\n",
       "1     458\n",
       "Name: Reponse, dtype: int64"
      ]
     },
     "execution_count": 102,
     "metadata": {},
     "output_type": "execute_result"
    }
   ],
   "source": [
    "dataset.Reponse.value_counts()"
   ]
  },
  {
   "cell_type": "markdown",
   "metadata": {},
   "source": [
    "____"
   ]
  },
  {
   "cell_type": "markdown",
   "metadata": {},
   "source": [
    "## **Section 5 - Utilisation de la PCA pour améliorer le modèle**\n"
   ]
  },
  {
   "cell_type": "code",
   "execution_count": 103,
   "metadata": {},
   "outputs": [
    {
     "data": {
      "text/plain": [
       "array([0.55332146, 0.2066667 , 0.08682757, 0.06974389, 0.04988832,\n",
       "       0.03355206])"
      ]
     },
     "execution_count": 103,
     "metadata": {},
     "output_type": "execute_result"
    }
   ],
   "source": [
    "from sklearn.decomposition import PCA\n",
    "\n",
    "\n",
    "pca = PCA()\n",
    "pca.fit(X)\n",
    "pca.explained_variance_ratio_"
   ]
  },
  {
   "cell_type": "code",
   "execution_count": 104,
   "metadata": {},
   "outputs": [
    {
     "data": {
      "image/png": "[encoded data removed]",
      "text/plain": [
       "<Figure size 576x432 with 1 Axes>"
      ]
     },
     "metadata": {},
     "output_type": "display_data"
    }
   ],
   "source": [
    "plt.figure(figsize=(8,6))\n",
    "plt.plot(np.cumsum(pca.explained_variance_ratio_))\n",
    "plt.xlim(0,14,1)\n",
    "plt.xlabel('Number of components')\n",
    "plt.ylabel('Cumulative explained variance')\n",
    "plt.show()"
   ]
  },
  {
   "cell_type": "code",
   "execution_count": 105,
   "metadata": {},
   "outputs": [],
   "source": [
    "X = dataset.drop(columns=['Reponse'])\n",
    "y = dataset['Reponse']\n",
    "\n",
    "X = scaler.fit_transform(X)\n",
    "\n",
    "pca = PCA(0.95)\n",
    "\n",
    "X = pca.fit_transform(X)\n",
    "\n",
    "X_train, X_test, y_train, y_test = train_test_split(X, y, test_size=0.25, random_state=42)\n"
   ]
  },
  {
   "cell_type": "code",
   "execution_count": 106,
   "metadata": {},
   "outputs": [
    {
     "name": "stdout",
     "output_type": "stream",
     "text": [
      "-----\n",
      "Best parameters {'penalty': 'l2', 'C': 100.0}\n",
      "Mean cross-validated accuracy score of the best_estimator: 0.822\n",
      "Score : 0.816\n",
      "-----\n"
     ]
    }
   ],
   "source": [
    "from sklearn.model_selection import cross_val_score\n",
    "\n",
    "param_grid = {\"C\":np.logspace(-3,3,7), \"penalty\":[\"l1\",\"l2\"]}\n",
    "\n",
    "\n",
    "model_logistic_regression = LogisticRegression()\n",
    "\n",
    "model_logistic_regression = RandomizedSearchCV(\n",
    "    model_logistic_regression, \n",
    "    param_grid, \n",
    "    n_iter=5,\n",
    "    scoring='accuracy',\n",
    ")\n",
    "\n",
    "model_logistic_regression.fit(X_train, y_train)\n",
    "\n",
    "print('-----')\n",
    "print(f'Best parameters {model_logistic_regression.best_params_}')\n",
    "print(\n",
    "    f'Mean cross-validated accuracy score of the best_estimator: '+ \\\n",
    "    f'{model_logistic_regression.best_score_:.3f}\\n'\n",
    "    f'Score : {round(model_logistic_regression.score(X_test,y_test),3)}'\n",
    ")\n",
    "print('-----')"
   ]
  },
  {
   "cell_type": "code",
   "execution_count": 107,
   "metadata": {},
   "outputs": [
    {
     "name": "stdout",
     "output_type": "stream",
     "text": [
      "              precision    recall  f1-score   support\n",
      "\n",
      "           0       0.83      0.96      0.89       430\n",
      "           1       0.69      0.31      0.43       123\n",
      "\n",
      "    accuracy                           0.82       553\n",
      "   macro avg       0.76      0.63      0.66       553\n",
      "weighted avg       0.80      0.82      0.79       553\n",
      "\n"
     ]
    }
   ],
   "source": [
    "from sklearn.metrics import classification_report\n",
    "\n",
    "y_pred = model_logistic_regression.predict(X_test)\n",
    "print(classification_report(y_test, y_pred))"
   ]
  }
 ],
 "metadata": {
  "interpreter": {
   "hash": "ad92ed1d60c6fca690dbfce3066fba70926525a307888b5aed527e6060e1bcc1"
  },
  "kernelspec": {
   "display_name": "Python 3.9.7 ('base')",
   "language": "python",
   "name": "python3"
  },
  "language_info": {
   "codemirror_mode": {
    "name": "ipython",
    "version": 3
   },
   "file_extension": ".py",
   "mimetype": "text/x-python",
   "name": "python",
   "nbconvert_exporter": "python",
   "pygments_lexer": "ipython3",
   "version": "3.9.7"
  },
  "orig_nbformat": 4
 },
 "nbformat": 4,
 "nbformat_minor": 2
}
